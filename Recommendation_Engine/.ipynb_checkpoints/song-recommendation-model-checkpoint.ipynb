{
 "cells": [
  {
   "cell_type": "markdown",
   "id": "a1a67e3c",
   "metadata": {
    "papermill": {
     "duration": 0.004251,
     "end_time": "2025-02-21T11:15:20.874738",
     "exception": false,
     "start_time": "2025-02-21T11:15:20.870487",
     "status": "completed"
    },
    "tags": []
   },
   "source": [
    "# Song Recommendation System\n",
    "\n",
    " ### 1. Importing Required Libraries\n",
    "### This section imports all the necessary Python libraries for data manipulation, visualization, NLP, and model building."
   ]
  },
  {
   "cell_type": "code",
   "execution_count": 1,
   "id": "105d480b",
   "metadata": {
    "papermill": {
     "duration": 19.079205,
     "end_time": "2025-02-21T11:15:39.957855",
     "exception": false,
     "start_time": "2025-02-21T11:15:20.878650",
     "status": "completed"
    },
    "tags": []
   },
   "outputs": [
    {
     "ename": "ImportError",
     "evalue": "cannot import name 'triu' from 'scipy.linalg' (C:\\Users\\Admin\\AppData\\Roaming\\Python\\Python312\\site-packages\\scipy\\linalg\\__init__.py)",
     "output_type": "error",
     "traceback": [
      "\u001b[1;31m---------------------------------------------------------------------------\u001b[0m",
      "\u001b[1;31mImportError\u001b[0m                               Traceback (most recent call last)",
      "Cell \u001b[1;32mIn[1], line 9\u001b[0m\n\u001b[0;32m      7\u001b[0m \u001b[38;5;28;01mfrom\u001b[39;00m\u001b[38;5;250m \u001b[39m\u001b[38;5;21;01mnltk\u001b[39;00m\u001b[38;5;21;01m.\u001b[39;00m\u001b[38;5;21;01mtokenize\u001b[39;00m\u001b[38;5;250m \u001b[39m\u001b[38;5;28;01mimport\u001b[39;00m word_tokenize\n\u001b[0;32m      8\u001b[0m \u001b[38;5;28;01mfrom\u001b[39;00m\u001b[38;5;250m \u001b[39m\u001b[38;5;21;01mnltk\u001b[39;00m\u001b[38;5;21;01m.\u001b[39;00m\u001b[38;5;21;01mcorpus\u001b[39;00m\u001b[38;5;250m \u001b[39m\u001b[38;5;28;01mimport\u001b[39;00m stopwords\n\u001b[1;32m----> 9\u001b[0m \u001b[38;5;28;01mfrom\u001b[39;00m\u001b[38;5;250m \u001b[39m\u001b[38;5;21;01mgensim\u001b[39;00m\u001b[38;5;21;01m.\u001b[39;00m\u001b[38;5;21;01mmodels\u001b[39;00m\u001b[38;5;250m \u001b[39m\u001b[38;5;28;01mimport\u001b[39;00m Word2Vec\n\u001b[0;32m     10\u001b[0m \u001b[38;5;28;01mfrom\u001b[39;00m\u001b[38;5;250m \u001b[39m\u001b[38;5;21;01msklearn\u001b[39;00m\u001b[38;5;21;01m.\u001b[39;00m\u001b[38;5;21;01mmetrics\u001b[39;00m\u001b[38;5;21;01m.\u001b[39;00m\u001b[38;5;21;01mpairwise\u001b[39;00m\u001b[38;5;250m \u001b[39m\u001b[38;5;28;01mimport\u001b[39;00m cosine_similarity\n\u001b[0;32m     11\u001b[0m \u001b[38;5;28;01mfrom\u001b[39;00m\u001b[38;5;250m \u001b[39m\u001b[38;5;21;01msklearn\u001b[39;00m\u001b[38;5;21;01m.\u001b[39;00m\u001b[38;5;21;01mpreprocessing\u001b[39;00m\u001b[38;5;250m \u001b[39m\u001b[38;5;28;01mimport\u001b[39;00m MinMaxScaler\n",
      "File \u001b[1;32mC:\\ProgramData\\anaconda3\\Lib\\site-packages\\gensim\\__init__.py:11\u001b[0m\n\u001b[0;32m      7\u001b[0m __version__ \u001b[38;5;241m=\u001b[39m \u001b[38;5;124m'\u001b[39m\u001b[38;5;124m4.3.2\u001b[39m\u001b[38;5;124m'\u001b[39m\n\u001b[0;32m      9\u001b[0m \u001b[38;5;28;01mimport\u001b[39;00m\u001b[38;5;250m \u001b[39m\u001b[38;5;21;01mlogging\u001b[39;00m\n\u001b[1;32m---> 11\u001b[0m \u001b[38;5;28;01mfrom\u001b[39;00m\u001b[38;5;250m \u001b[39m\u001b[38;5;21;01mgensim\u001b[39;00m\u001b[38;5;250m \u001b[39m\u001b[38;5;28;01mimport\u001b[39;00m parsing, corpora, matutils, interfaces, models, similarities, utils  \u001b[38;5;66;03m# noqa:F401\u001b[39;00m\n\u001b[0;32m     14\u001b[0m logger \u001b[38;5;241m=\u001b[39m logging\u001b[38;5;241m.\u001b[39mgetLogger(\u001b[38;5;124m'\u001b[39m\u001b[38;5;124mgensim\u001b[39m\u001b[38;5;124m'\u001b[39m)\n\u001b[0;32m     15\u001b[0m \u001b[38;5;28;01mif\u001b[39;00m \u001b[38;5;129;01mnot\u001b[39;00m logger\u001b[38;5;241m.\u001b[39mhandlers:  \u001b[38;5;66;03m# To ensure reload() doesn't add another one\u001b[39;00m\n",
      "File \u001b[1;32mC:\\ProgramData\\anaconda3\\Lib\\site-packages\\gensim\\corpora\\__init__.py:6\u001b[0m\n\u001b[0;32m      1\u001b[0m \u001b[38;5;124;03m\"\"\"\u001b[39;00m\n\u001b[0;32m      2\u001b[0m \u001b[38;5;124;03mThis package contains implementations of various streaming corpus I/O format.\u001b[39;00m\n\u001b[0;32m      3\u001b[0m \u001b[38;5;124;03m\"\"\"\u001b[39;00m\n\u001b[0;32m      5\u001b[0m \u001b[38;5;66;03m# bring corpus classes directly into package namespace, to save some typing\u001b[39;00m\n\u001b[1;32m----> 6\u001b[0m \u001b[38;5;28;01mfrom\u001b[39;00m\u001b[38;5;250m \u001b[39m\u001b[38;5;21;01m.\u001b[39;00m\u001b[38;5;21;01mindexedcorpus\u001b[39;00m\u001b[38;5;250m \u001b[39m\u001b[38;5;28;01mimport\u001b[39;00m IndexedCorpus  \u001b[38;5;66;03m# noqa:F401 must appear before the other classes\u001b[39;00m\n\u001b[0;32m      8\u001b[0m \u001b[38;5;28;01mfrom\u001b[39;00m\u001b[38;5;250m \u001b[39m\u001b[38;5;21;01m.\u001b[39;00m\u001b[38;5;21;01mmmcorpus\u001b[39;00m\u001b[38;5;250m \u001b[39m\u001b[38;5;28;01mimport\u001b[39;00m MmCorpus  \u001b[38;5;66;03m# noqa:F401\u001b[39;00m\n\u001b[0;32m      9\u001b[0m \u001b[38;5;28;01mfrom\u001b[39;00m\u001b[38;5;250m \u001b[39m\u001b[38;5;21;01m.\u001b[39;00m\u001b[38;5;21;01mbleicorpus\u001b[39;00m\u001b[38;5;250m \u001b[39m\u001b[38;5;28;01mimport\u001b[39;00m BleiCorpus  \u001b[38;5;66;03m# noqa:F401\u001b[39;00m\n",
      "File \u001b[1;32mC:\\ProgramData\\anaconda3\\Lib\\site-packages\\gensim\\corpora\\indexedcorpus.py:14\u001b[0m\n\u001b[0;32m     10\u001b[0m \u001b[38;5;28;01mimport\u001b[39;00m\u001b[38;5;250m \u001b[39m\u001b[38;5;21;01mlogging\u001b[39;00m\n\u001b[0;32m     12\u001b[0m \u001b[38;5;28;01mimport\u001b[39;00m\u001b[38;5;250m \u001b[39m\u001b[38;5;21;01mnumpy\u001b[39;00m\n\u001b[1;32m---> 14\u001b[0m \u001b[38;5;28;01mfrom\u001b[39;00m\u001b[38;5;250m \u001b[39m\u001b[38;5;21;01mgensim\u001b[39;00m\u001b[38;5;250m \u001b[39m\u001b[38;5;28;01mimport\u001b[39;00m interfaces, utils\n\u001b[0;32m     16\u001b[0m logger \u001b[38;5;241m=\u001b[39m logging\u001b[38;5;241m.\u001b[39mgetLogger(\u001b[38;5;18m__name__\u001b[39m)\n\u001b[0;32m     19\u001b[0m \u001b[38;5;28;01mclass\u001b[39;00m\u001b[38;5;250m \u001b[39m\u001b[38;5;21;01mIndexedCorpus\u001b[39;00m(interfaces\u001b[38;5;241m.\u001b[39mCorpusABC):\n",
      "File \u001b[1;32mC:\\ProgramData\\anaconda3\\Lib\\site-packages\\gensim\\interfaces.py:19\u001b[0m\n\u001b[0;32m      7\u001b[0m \u001b[38;5;124;03m\"\"\"Basic interfaces used across the whole Gensim package.\u001b[39;00m\n\u001b[0;32m      8\u001b[0m \n\u001b[0;32m      9\u001b[0m \u001b[38;5;124;03mThese interfaces are used for building corpora, model transformation and similarity queries.\u001b[39;00m\n\u001b[1;32m   (...)\u001b[0m\n\u001b[0;32m     14\u001b[0m \n\u001b[0;32m     15\u001b[0m \u001b[38;5;124;03m\"\"\"\u001b[39;00m\n\u001b[0;32m     17\u001b[0m \u001b[38;5;28;01mimport\u001b[39;00m\u001b[38;5;250m \u001b[39m\u001b[38;5;21;01mlogging\u001b[39;00m\n\u001b[1;32m---> 19\u001b[0m \u001b[38;5;28;01mfrom\u001b[39;00m\u001b[38;5;250m \u001b[39m\u001b[38;5;21;01mgensim\u001b[39;00m\u001b[38;5;250m \u001b[39m\u001b[38;5;28;01mimport\u001b[39;00m utils, matutils\n\u001b[0;32m     22\u001b[0m logger \u001b[38;5;241m=\u001b[39m logging\u001b[38;5;241m.\u001b[39mgetLogger(\u001b[38;5;18m__name__\u001b[39m)\n\u001b[0;32m     25\u001b[0m \u001b[38;5;28;01mclass\u001b[39;00m\u001b[38;5;250m \u001b[39m\u001b[38;5;21;01mCorpusABC\u001b[39;00m(utils\u001b[38;5;241m.\u001b[39mSaveLoad):\n",
      "File \u001b[1;32mC:\\ProgramData\\anaconda3\\Lib\\site-packages\\gensim\\matutils.py:20\u001b[0m\n\u001b[0;32m     18\u001b[0m \u001b[38;5;28;01mimport\u001b[39;00m\u001b[38;5;250m \u001b[39m\u001b[38;5;21;01mscipy\u001b[39;00m\u001b[38;5;21;01m.\u001b[39;00m\u001b[38;5;21;01msparse\u001b[39;00m\n\u001b[0;32m     19\u001b[0m \u001b[38;5;28;01mfrom\u001b[39;00m\u001b[38;5;250m \u001b[39m\u001b[38;5;21;01mscipy\u001b[39;00m\u001b[38;5;21;01m.\u001b[39;00m\u001b[38;5;21;01mstats\u001b[39;00m\u001b[38;5;250m \u001b[39m\u001b[38;5;28;01mimport\u001b[39;00m entropy\n\u001b[1;32m---> 20\u001b[0m \u001b[38;5;28;01mfrom\u001b[39;00m\u001b[38;5;250m \u001b[39m\u001b[38;5;21;01mscipy\u001b[39;00m\u001b[38;5;21;01m.\u001b[39;00m\u001b[38;5;21;01mlinalg\u001b[39;00m\u001b[38;5;250m \u001b[39m\u001b[38;5;28;01mimport\u001b[39;00m get_blas_funcs, triu\n\u001b[0;32m     21\u001b[0m \u001b[38;5;28;01mfrom\u001b[39;00m\u001b[38;5;250m \u001b[39m\u001b[38;5;21;01mscipy\u001b[39;00m\u001b[38;5;21;01m.\u001b[39;00m\u001b[38;5;21;01mlinalg\u001b[39;00m\u001b[38;5;21;01m.\u001b[39;00m\u001b[38;5;21;01mlapack\u001b[39;00m\u001b[38;5;250m \u001b[39m\u001b[38;5;28;01mimport\u001b[39;00m get_lapack_funcs\n\u001b[0;32m     22\u001b[0m \u001b[38;5;28;01mfrom\u001b[39;00m\u001b[38;5;250m \u001b[39m\u001b[38;5;21;01mscipy\u001b[39;00m\u001b[38;5;21;01m.\u001b[39;00m\u001b[38;5;21;01mspecial\u001b[39;00m\u001b[38;5;250m \u001b[39m\u001b[38;5;28;01mimport\u001b[39;00m psi  \u001b[38;5;66;03m# gamma function utils\u001b[39;00m\n",
      "\u001b[1;31mImportError\u001b[0m: cannot import name 'triu' from 'scipy.linalg' (C:\\Users\\Admin\\AppData\\Roaming\\Python\\Python312\\site-packages\\scipy\\linalg\\__init__.py)"
     ]
    }
   ],
   "source": [
    "import pandas as pd\n",
    "import numpy as np\n",
    "import matplotlib.pyplot as plt\n",
    "import seaborn as sns\n",
    "import nltk\n",
    "import re\n",
    "from nltk.tokenize import word_tokenize\n",
    "from nltk.corpus import stopwords\n",
    "from gensim.models import Word2Vec\n",
    "from sklearn.metrics.pairwise import cosine_similarity\n",
    "from sklearn.preprocessing import MinMaxScaler\n",
    "from sklearn.cluster import KMeans\n",
    "from sklearn.metrics import silhouette_score\n",
    "import requests\n",
    "import pickle\n",
    "\n",
    "nltk.download('punkt')\n",
    "nltk.download('stopwords')"
   ]
  },
  {
   "cell_type": "markdown",
   "id": "9d75d1b7",
   "metadata": {
    "papermill": {
     "duration": 0.003474,
     "end_time": "2025-02-21T11:15:39.966385",
     "exception": false,
     "start_time": "2025-02-21T11:15:39.962911",
     "status": "completed"
    },
    "tags": []
   },
   "source": [
    " ### 2. Loading the Dataset\n",
    "### We load the dataset containing song details such as track name, artist, genre, lyrics, and numerical features."
   ]
  },
  {
   "cell_type": "code",
   "execution_count": 2,
   "id": "e9ff5b46",
   "metadata": {
    "papermill": {
     "duration": 0.50405,
     "end_time": "2025-02-21T11:15:40.474073",
     "exception": false,
     "start_time": "2025-02-21T11:15:39.970023",
     "status": "completed"
    },
    "tags": []
   },
   "outputs": [
    {
     "ename": "FileNotFoundError",
     "evalue": "[Errno 2] No such file or directory: '/kaggle/input/spotify-most-popular-songs-dataset/songs.csv'",
     "output_type": "error",
     "traceback": [
      "\u001b[1;31m---------------------------------------------------------------------------\u001b[0m",
      "\u001b[1;31mFileNotFoundError\u001b[0m                         Traceback (most recent call last)",
      "Cell \u001b[1;32mIn[2], line 1\u001b[0m\n\u001b[1;32m----> 1\u001b[0m songs \u001b[38;5;241m=\u001b[39m \u001b[43mpd\u001b[49m\u001b[38;5;241;43m.\u001b[39;49m\u001b[43mread_csv\u001b[49m\u001b[43m(\u001b[49m\u001b[38;5;124;43m'\u001b[39;49m\u001b[38;5;124;43m/kaggle/input/spotify-most-popular-songs-dataset/songs.csv\u001b[39;49m\u001b[38;5;124;43m'\u001b[39;49m\u001b[43m)\u001b[49m\n",
      "File \u001b[1;32mC:\\ProgramData\\anaconda3\\Lib\\site-packages\\pandas\\io\\parsers\\readers.py:1026\u001b[0m, in \u001b[0;36mread_csv\u001b[1;34m(filepath_or_buffer, sep, delimiter, header, names, index_col, usecols, dtype, engine, converters, true_values, false_values, skipinitialspace, skiprows, skipfooter, nrows, na_values, keep_default_na, na_filter, verbose, skip_blank_lines, parse_dates, infer_datetime_format, keep_date_col, date_parser, date_format, dayfirst, cache_dates, iterator, chunksize, compression, thousands, decimal, lineterminator, quotechar, quoting, doublequote, escapechar, comment, encoding, encoding_errors, dialect, on_bad_lines, delim_whitespace, low_memory, memory_map, float_precision, storage_options, dtype_backend)\u001b[0m\n\u001b[0;32m   1013\u001b[0m kwds_defaults \u001b[38;5;241m=\u001b[39m _refine_defaults_read(\n\u001b[0;32m   1014\u001b[0m     dialect,\n\u001b[0;32m   1015\u001b[0m     delimiter,\n\u001b[1;32m   (...)\u001b[0m\n\u001b[0;32m   1022\u001b[0m     dtype_backend\u001b[38;5;241m=\u001b[39mdtype_backend,\n\u001b[0;32m   1023\u001b[0m )\n\u001b[0;32m   1024\u001b[0m kwds\u001b[38;5;241m.\u001b[39mupdate(kwds_defaults)\n\u001b[1;32m-> 1026\u001b[0m \u001b[38;5;28;01mreturn\u001b[39;00m \u001b[43m_read\u001b[49m\u001b[43m(\u001b[49m\u001b[43mfilepath_or_buffer\u001b[49m\u001b[43m,\u001b[49m\u001b[43m \u001b[49m\u001b[43mkwds\u001b[49m\u001b[43m)\u001b[49m\n",
      "File \u001b[1;32mC:\\ProgramData\\anaconda3\\Lib\\site-packages\\pandas\\io\\parsers\\readers.py:620\u001b[0m, in \u001b[0;36m_read\u001b[1;34m(filepath_or_buffer, kwds)\u001b[0m\n\u001b[0;32m    617\u001b[0m _validate_names(kwds\u001b[38;5;241m.\u001b[39mget(\u001b[38;5;124m\"\u001b[39m\u001b[38;5;124mnames\u001b[39m\u001b[38;5;124m\"\u001b[39m, \u001b[38;5;28;01mNone\u001b[39;00m))\n\u001b[0;32m    619\u001b[0m \u001b[38;5;66;03m# Create the parser.\u001b[39;00m\n\u001b[1;32m--> 620\u001b[0m parser \u001b[38;5;241m=\u001b[39m \u001b[43mTextFileReader\u001b[49m\u001b[43m(\u001b[49m\u001b[43mfilepath_or_buffer\u001b[49m\u001b[43m,\u001b[49m\u001b[43m \u001b[49m\u001b[38;5;241;43m*\u001b[39;49m\u001b[38;5;241;43m*\u001b[39;49m\u001b[43mkwds\u001b[49m\u001b[43m)\u001b[49m\n\u001b[0;32m    622\u001b[0m \u001b[38;5;28;01mif\u001b[39;00m chunksize \u001b[38;5;129;01mor\u001b[39;00m iterator:\n\u001b[0;32m    623\u001b[0m     \u001b[38;5;28;01mreturn\u001b[39;00m parser\n",
      "File \u001b[1;32mC:\\ProgramData\\anaconda3\\Lib\\site-packages\\pandas\\io\\parsers\\readers.py:1620\u001b[0m, in \u001b[0;36mTextFileReader.__init__\u001b[1;34m(self, f, engine, **kwds)\u001b[0m\n\u001b[0;32m   1617\u001b[0m     \u001b[38;5;28mself\u001b[39m\u001b[38;5;241m.\u001b[39moptions[\u001b[38;5;124m\"\u001b[39m\u001b[38;5;124mhas_index_names\u001b[39m\u001b[38;5;124m\"\u001b[39m] \u001b[38;5;241m=\u001b[39m kwds[\u001b[38;5;124m\"\u001b[39m\u001b[38;5;124mhas_index_names\u001b[39m\u001b[38;5;124m\"\u001b[39m]\n\u001b[0;32m   1619\u001b[0m \u001b[38;5;28mself\u001b[39m\u001b[38;5;241m.\u001b[39mhandles: IOHandles \u001b[38;5;241m|\u001b[39m \u001b[38;5;28;01mNone\u001b[39;00m \u001b[38;5;241m=\u001b[39m \u001b[38;5;28;01mNone\u001b[39;00m\n\u001b[1;32m-> 1620\u001b[0m \u001b[38;5;28mself\u001b[39m\u001b[38;5;241m.\u001b[39m_engine \u001b[38;5;241m=\u001b[39m \u001b[38;5;28;43mself\u001b[39;49m\u001b[38;5;241;43m.\u001b[39;49m\u001b[43m_make_engine\u001b[49m\u001b[43m(\u001b[49m\u001b[43mf\u001b[49m\u001b[43m,\u001b[49m\u001b[43m \u001b[49m\u001b[38;5;28;43mself\u001b[39;49m\u001b[38;5;241;43m.\u001b[39;49m\u001b[43mengine\u001b[49m\u001b[43m)\u001b[49m\n",
      "File \u001b[1;32mC:\\ProgramData\\anaconda3\\Lib\\site-packages\\pandas\\io\\parsers\\readers.py:1880\u001b[0m, in \u001b[0;36mTextFileReader._make_engine\u001b[1;34m(self, f, engine)\u001b[0m\n\u001b[0;32m   1878\u001b[0m     \u001b[38;5;28;01mif\u001b[39;00m \u001b[38;5;124m\"\u001b[39m\u001b[38;5;124mb\u001b[39m\u001b[38;5;124m\"\u001b[39m \u001b[38;5;129;01mnot\u001b[39;00m \u001b[38;5;129;01min\u001b[39;00m mode:\n\u001b[0;32m   1879\u001b[0m         mode \u001b[38;5;241m+\u001b[39m\u001b[38;5;241m=\u001b[39m \u001b[38;5;124m\"\u001b[39m\u001b[38;5;124mb\u001b[39m\u001b[38;5;124m\"\u001b[39m\n\u001b[1;32m-> 1880\u001b[0m \u001b[38;5;28mself\u001b[39m\u001b[38;5;241m.\u001b[39mhandles \u001b[38;5;241m=\u001b[39m \u001b[43mget_handle\u001b[49m\u001b[43m(\u001b[49m\n\u001b[0;32m   1881\u001b[0m \u001b[43m    \u001b[49m\u001b[43mf\u001b[49m\u001b[43m,\u001b[49m\n\u001b[0;32m   1882\u001b[0m \u001b[43m    \u001b[49m\u001b[43mmode\u001b[49m\u001b[43m,\u001b[49m\n\u001b[0;32m   1883\u001b[0m \u001b[43m    \u001b[49m\u001b[43mencoding\u001b[49m\u001b[38;5;241;43m=\u001b[39;49m\u001b[38;5;28;43mself\u001b[39;49m\u001b[38;5;241;43m.\u001b[39;49m\u001b[43moptions\u001b[49m\u001b[38;5;241;43m.\u001b[39;49m\u001b[43mget\u001b[49m\u001b[43m(\u001b[49m\u001b[38;5;124;43m\"\u001b[39;49m\u001b[38;5;124;43mencoding\u001b[39;49m\u001b[38;5;124;43m\"\u001b[39;49m\u001b[43m,\u001b[49m\u001b[43m \u001b[49m\u001b[38;5;28;43;01mNone\u001b[39;49;00m\u001b[43m)\u001b[49m\u001b[43m,\u001b[49m\n\u001b[0;32m   1884\u001b[0m \u001b[43m    \u001b[49m\u001b[43mcompression\u001b[49m\u001b[38;5;241;43m=\u001b[39;49m\u001b[38;5;28;43mself\u001b[39;49m\u001b[38;5;241;43m.\u001b[39;49m\u001b[43moptions\u001b[49m\u001b[38;5;241;43m.\u001b[39;49m\u001b[43mget\u001b[49m\u001b[43m(\u001b[49m\u001b[38;5;124;43m\"\u001b[39;49m\u001b[38;5;124;43mcompression\u001b[39;49m\u001b[38;5;124;43m\"\u001b[39;49m\u001b[43m,\u001b[49m\u001b[43m \u001b[49m\u001b[38;5;28;43;01mNone\u001b[39;49;00m\u001b[43m)\u001b[49m\u001b[43m,\u001b[49m\n\u001b[0;32m   1885\u001b[0m \u001b[43m    \u001b[49m\u001b[43mmemory_map\u001b[49m\u001b[38;5;241;43m=\u001b[39;49m\u001b[38;5;28;43mself\u001b[39;49m\u001b[38;5;241;43m.\u001b[39;49m\u001b[43moptions\u001b[49m\u001b[38;5;241;43m.\u001b[39;49m\u001b[43mget\u001b[49m\u001b[43m(\u001b[49m\u001b[38;5;124;43m\"\u001b[39;49m\u001b[38;5;124;43mmemory_map\u001b[39;49m\u001b[38;5;124;43m\"\u001b[39;49m\u001b[43m,\u001b[49m\u001b[43m \u001b[49m\u001b[38;5;28;43;01mFalse\u001b[39;49;00m\u001b[43m)\u001b[49m\u001b[43m,\u001b[49m\n\u001b[0;32m   1886\u001b[0m \u001b[43m    \u001b[49m\u001b[43mis_text\u001b[49m\u001b[38;5;241;43m=\u001b[39;49m\u001b[43mis_text\u001b[49m\u001b[43m,\u001b[49m\n\u001b[0;32m   1887\u001b[0m \u001b[43m    \u001b[49m\u001b[43merrors\u001b[49m\u001b[38;5;241;43m=\u001b[39;49m\u001b[38;5;28;43mself\u001b[39;49m\u001b[38;5;241;43m.\u001b[39;49m\u001b[43moptions\u001b[49m\u001b[38;5;241;43m.\u001b[39;49m\u001b[43mget\u001b[49m\u001b[43m(\u001b[49m\u001b[38;5;124;43m\"\u001b[39;49m\u001b[38;5;124;43mencoding_errors\u001b[39;49m\u001b[38;5;124;43m\"\u001b[39;49m\u001b[43m,\u001b[49m\u001b[43m \u001b[49m\u001b[38;5;124;43m\"\u001b[39;49m\u001b[38;5;124;43mstrict\u001b[39;49m\u001b[38;5;124;43m\"\u001b[39;49m\u001b[43m)\u001b[49m\u001b[43m,\u001b[49m\n\u001b[0;32m   1888\u001b[0m \u001b[43m    \u001b[49m\u001b[43mstorage_options\u001b[49m\u001b[38;5;241;43m=\u001b[39;49m\u001b[38;5;28;43mself\u001b[39;49m\u001b[38;5;241;43m.\u001b[39;49m\u001b[43moptions\u001b[49m\u001b[38;5;241;43m.\u001b[39;49m\u001b[43mget\u001b[49m\u001b[43m(\u001b[49m\u001b[38;5;124;43m\"\u001b[39;49m\u001b[38;5;124;43mstorage_options\u001b[39;49m\u001b[38;5;124;43m\"\u001b[39;49m\u001b[43m,\u001b[49m\u001b[43m \u001b[49m\u001b[38;5;28;43;01mNone\u001b[39;49;00m\u001b[43m)\u001b[49m\u001b[43m,\u001b[49m\n\u001b[0;32m   1889\u001b[0m \u001b[43m\u001b[49m\u001b[43m)\u001b[49m\n\u001b[0;32m   1890\u001b[0m \u001b[38;5;28;01massert\u001b[39;00m \u001b[38;5;28mself\u001b[39m\u001b[38;5;241m.\u001b[39mhandles \u001b[38;5;129;01mis\u001b[39;00m \u001b[38;5;129;01mnot\u001b[39;00m \u001b[38;5;28;01mNone\u001b[39;00m\n\u001b[0;32m   1891\u001b[0m f \u001b[38;5;241m=\u001b[39m \u001b[38;5;28mself\u001b[39m\u001b[38;5;241m.\u001b[39mhandles\u001b[38;5;241m.\u001b[39mhandle\n",
      "File \u001b[1;32mC:\\ProgramData\\anaconda3\\Lib\\site-packages\\pandas\\io\\common.py:873\u001b[0m, in \u001b[0;36mget_handle\u001b[1;34m(path_or_buf, mode, encoding, compression, memory_map, is_text, errors, storage_options)\u001b[0m\n\u001b[0;32m    868\u001b[0m \u001b[38;5;28;01melif\u001b[39;00m \u001b[38;5;28misinstance\u001b[39m(handle, \u001b[38;5;28mstr\u001b[39m):\n\u001b[0;32m    869\u001b[0m     \u001b[38;5;66;03m# Check whether the filename is to be opened in binary mode.\u001b[39;00m\n\u001b[0;32m    870\u001b[0m     \u001b[38;5;66;03m# Binary mode does not support 'encoding' and 'newline'.\u001b[39;00m\n\u001b[0;32m    871\u001b[0m     \u001b[38;5;28;01mif\u001b[39;00m ioargs\u001b[38;5;241m.\u001b[39mencoding \u001b[38;5;129;01mand\u001b[39;00m \u001b[38;5;124m\"\u001b[39m\u001b[38;5;124mb\u001b[39m\u001b[38;5;124m\"\u001b[39m \u001b[38;5;129;01mnot\u001b[39;00m \u001b[38;5;129;01min\u001b[39;00m ioargs\u001b[38;5;241m.\u001b[39mmode:\n\u001b[0;32m    872\u001b[0m         \u001b[38;5;66;03m# Encoding\u001b[39;00m\n\u001b[1;32m--> 873\u001b[0m         handle \u001b[38;5;241m=\u001b[39m \u001b[38;5;28;43mopen\u001b[39;49m\u001b[43m(\u001b[49m\n\u001b[0;32m    874\u001b[0m \u001b[43m            \u001b[49m\u001b[43mhandle\u001b[49m\u001b[43m,\u001b[49m\n\u001b[0;32m    875\u001b[0m \u001b[43m            \u001b[49m\u001b[43mioargs\u001b[49m\u001b[38;5;241;43m.\u001b[39;49m\u001b[43mmode\u001b[49m\u001b[43m,\u001b[49m\n\u001b[0;32m    876\u001b[0m \u001b[43m            \u001b[49m\u001b[43mencoding\u001b[49m\u001b[38;5;241;43m=\u001b[39;49m\u001b[43mioargs\u001b[49m\u001b[38;5;241;43m.\u001b[39;49m\u001b[43mencoding\u001b[49m\u001b[43m,\u001b[49m\n\u001b[0;32m    877\u001b[0m \u001b[43m            \u001b[49m\u001b[43merrors\u001b[49m\u001b[38;5;241;43m=\u001b[39;49m\u001b[43merrors\u001b[49m\u001b[43m,\u001b[49m\n\u001b[0;32m    878\u001b[0m \u001b[43m            \u001b[49m\u001b[43mnewline\u001b[49m\u001b[38;5;241;43m=\u001b[39;49m\u001b[38;5;124;43m\"\u001b[39;49m\u001b[38;5;124;43m\"\u001b[39;49m\u001b[43m,\u001b[49m\n\u001b[0;32m    879\u001b[0m \u001b[43m        \u001b[49m\u001b[43m)\u001b[49m\n\u001b[0;32m    880\u001b[0m     \u001b[38;5;28;01melse\u001b[39;00m:\n\u001b[0;32m    881\u001b[0m         \u001b[38;5;66;03m# Binary mode\u001b[39;00m\n\u001b[0;32m    882\u001b[0m         handle \u001b[38;5;241m=\u001b[39m \u001b[38;5;28mopen\u001b[39m(handle, ioargs\u001b[38;5;241m.\u001b[39mmode)\n",
      "\u001b[1;31mFileNotFoundError\u001b[0m: [Errno 2] No such file or directory: '/kaggle/input/spotify-most-popular-songs-dataset/songs.csv'"
     ]
    }
   ],
   "source": [
    "songs = pd.read_csv('/kaggle/input/spotify-most-popular-songs-dataset/songs.csv')"
   ]
  },
  {
   "cell_type": "markdown",
   "id": "f2a8fa08",
   "metadata": {
    "papermill": {
     "duration": 0.00545,
     "end_time": "2025-02-21T11:15:40.485665",
     "exception": false,
     "start_time": "2025-02-21T11:15:40.480215",
     "status": "completed"
    },
    "tags": []
   },
   "source": [
    "### 3. Data Preprocessing\n",
    "### - Convert lyrics to lowercase.\n",
    "### - Remove newline characters and tokenize text.\n",
    "### - Extract artist and genre details and tokenize them."
   ]
  },
  {
   "cell_type": "code",
   "execution_count": 3,
   "id": "d93d6964",
   "metadata": {
    "execution": {
     "iopub.execute_input": "2025-02-21T11:15:40.494887Z",
     "iopub.status.busy": "2025-02-21T11:15:40.494490Z",
     "iopub.status.idle": "2025-02-21T11:15:40.605942Z",
     "shell.execute_reply": "2025-02-21T11:15:40.604501Z"
    },
    "papermill": {
     "duration": 0.117927,
     "end_time": "2025-02-21T11:15:40.607812",
     "exception": false,
     "start_time": "2025-02-21T11:15:40.489885",
     "status": "completed"
    },
    "tags": []
   },
   "outputs": [],
   "source": [
    "songs['lyrics'] = songs['lyrics'].astype(str).str.lower()\n",
    "songs['lyrics'] = songs['lyrics'].apply(lambda x: x.replace('\\n', ' ').split(' '))\n",
    "songs['track_artist'] = songs['track_artist'].apply(lambda x: x.replace(' ', '').split(' '))\n",
    "songs['playlist_genre'] = songs['playlist_genre'].apply(lambda x: x.replace(' ', '').split(' '))"
   ]
  },
  {
   "cell_type": "markdown",
   "id": "50df8b92",
   "metadata": {
    "papermill": {
     "duration": 0.005302,
     "end_time": "2025-02-21T11:15:40.618940",
     "exception": false,
     "start_time": "2025-02-21T11:15:40.613638",
     "status": "completed"
    },
    "tags": []
   },
   "source": [
    "### Create a combined column 'tags' for song description"
   ]
  },
  {
   "cell_type": "code",
   "execution_count": 4,
   "id": "8fcd6129",
   "metadata": {
    "execution": {
     "iopub.execute_input": "2025-02-21T11:15:40.631337Z",
     "iopub.status.busy": "2025-02-21T11:15:40.630967Z",
     "iopub.status.idle": "2025-02-21T11:15:40.693046Z",
     "shell.execute_reply": "2025-02-21T11:15:40.692192Z"
    },
    "papermill": {
     "duration": 0.070273,
     "end_time": "2025-02-21T11:15:40.694870",
     "exception": false,
     "start_time": "2025-02-21T11:15:40.624597",
     "status": "completed"
    },
    "tags": []
   },
   "outputs": [],
   "source": [
    "songs['tags'] = songs['lyrics'] + songs['track_artist'] + songs['playlist_genre']\n",
    "songs['tags'] = songs['tags'].apply(lambda x: ' '.join(x))"
   ]
  },
  {
   "cell_type": "markdown",
   "id": "0e3d41c3",
   "metadata": {
    "papermill": {
     "duration": 0.005346,
     "end_time": "2025-02-21T11:15:40.706302",
     "exception": false,
     "start_time": "2025-02-21T11:15:40.700956",
     "status": "completed"
    },
    "tags": []
   },
   "source": [
    "### 4. Text Cleaning & Stopword Removal\n",
    "### Removing punctuation, numbers, and stopwords to retain meaningful words."
   ]
  },
  {
   "cell_type": "code",
   "execution_count": 5,
   "id": "84453706",
   "metadata": {
    "execution": {
     "iopub.execute_input": "2025-02-21T11:15:40.718987Z",
     "iopub.status.busy": "2025-02-21T11:15:40.718596Z",
     "iopub.status.idle": "2025-02-21T11:16:43.235716Z",
     "shell.execute_reply": "2025-02-21T11:16:43.234869Z"
    },
    "papermill": {
     "duration": 62.524988,
     "end_time": "2025-02-21T11:16:43.237604",
     "exception": false,
     "start_time": "2025-02-21T11:15:40.712616",
     "status": "completed"
    },
    "tags": []
   },
   "outputs": [],
   "source": [
    "def clean_tags(text):\n",
    "    text = re.sub(r'[^a-zA-Z\\s]', '', text)  # Remove non-alphabetic characters\n",
    "    words = word_tokenize(text)\n",
    "    filtered_words = [word for word in words if word not in stopwords.words('english')]\n",
    "    return ' '.join(filtered_words)\n",
    "\n",
    "songs['tags'] = songs['tags'].apply(clean_tags)\n",
    "songs['tags_tokenized'] = songs['tags'].apply(lambda x: x.split())"
   ]
  },
  {
   "cell_type": "markdown",
   "id": "215dfb7b",
   "metadata": {
    "papermill": {
     "duration": 0.005145,
     "end_time": "2025-02-21T11:16:43.249223",
     "exception": false,
     "start_time": "2025-02-21T11:16:43.244078",
     "status": "completed"
    },
    "tags": []
   },
   "source": [
    "### 5. Word2Vec Embeddings for Text Data\n",
    "### Using Word2Vec to generate word embeddings for song descriptions."
   ]
  },
  {
   "cell_type": "code",
   "execution_count": 6,
   "id": "88ae8cc3",
   "metadata": {
    "execution": {
     "iopub.execute_input": "2025-02-21T11:16:43.257778Z",
     "iopub.status.busy": "2025-02-21T11:16:43.257404Z",
     "iopub.status.idle": "2025-02-21T11:16:47.340241Z",
     "shell.execute_reply": "2025-02-21T11:16:47.338864Z"
    },
    "papermill": {
     "duration": 4.088785,
     "end_time": "2025-02-21T11:16:47.341741",
     "exception": false,
     "start_time": "2025-02-21T11:16:43.252956",
     "status": "completed"
    },
    "tags": []
   },
   "outputs": [],
   "source": [
    "model = Word2Vec(songs['tags_tokenized'], vector_size=300, window=5, min_count=1, workers=4)\n",
    "\n",
    "def get_doc_vector(tags_tokenized, model):\n",
    "    vectors = [model.wv[word] for word in tags_tokenized if word in model.wv]\n",
    "    return np.mean(vectors, axis=0) if vectors else np.zeros(300)\n",
    "\n",
    "songs['doc_vector'] = songs['tags_tokenized'].apply(lambda x: get_doc_vector(x, model))"
   ]
  },
  {
   "cell_type": "markdown",
   "id": "79693a4a",
   "metadata": {
    "papermill": {
     "duration": 0.003232,
     "end_time": "2025-02-21T11:16:47.348836",
     "exception": false,
     "start_time": "2025-02-21T11:16:47.345604",
     "status": "completed"
    },
    "tags": []
   },
   "source": [
    "### 6. Feature Scaling for Numerical Data\n",
    "### Scaling numerical features using MinMaxScaler."
   ]
  },
  {
   "cell_type": "code",
   "execution_count": 7,
   "id": "feb40375",
   "metadata": {
    "execution": {
     "iopub.execute_input": "2025-02-21T11:16:47.357804Z",
     "iopub.status.busy": "2025-02-21T11:16:47.357371Z",
     "iopub.status.idle": "2025-02-21T11:16:47.375841Z",
     "shell.execute_reply": "2025-02-21T11:16:47.374312Z"
    },
    "papermill": {
     "duration": 0.025271,
     "end_time": "2025-02-21T11:16:47.377805",
     "exception": false,
     "start_time": "2025-02-21T11:16:47.352534",
     "status": "completed"
    },
    "tags": []
   },
   "outputs": [],
   "source": [
    "numerical_columns = [col for col in songs.columns if songs[col].dtype != 'O']\n",
    "numerical_columns.remove('duration_ms')  # Remove duration from scaling\n",
    "\n",
    "scaler = MinMaxScaler()\n",
    "songs[numerical_columns] = scaler.fit_transform(songs[numerical_columns])"
   ]
  },
  {
   "cell_type": "markdown",
   "id": "4201adcc",
   "metadata": {
    "papermill": {
     "duration": 0.003209,
     "end_time": "2025-02-21T11:16:47.385004",
     "exception": false,
     "start_time": "2025-02-21T11:16:47.381795",
     "status": "completed"
    },
    "tags": []
   },
   "source": [
    "### 7. Combining Word2Vec Vectors with Numerical Features\n",
    "### Merging song text embeddings with numerical features to create a unified representation."
   ]
  },
  {
   "cell_type": "code",
   "execution_count": 8,
   "id": "6c945588",
   "metadata": {
    "execution": {
     "iopub.execute_input": "2025-02-21T11:16:47.393330Z",
     "iopub.status.busy": "2025-02-21T11:16:47.392968Z",
     "iopub.status.idle": "2025-02-21T11:16:47.444172Z",
     "shell.execute_reply": "2025-02-21T11:16:47.442429Z"
    },
    "papermill": {
     "duration": 0.057869,
     "end_time": "2025-02-21T11:16:47.446263",
     "exception": false,
     "start_time": "2025-02-21T11:16:47.388394",
     "status": "completed"
    },
    "tags": []
   },
   "outputs": [],
   "source": [
    "def combine_vectors(row, numerical_vector):\n",
    "    doc_vector = np.array(row['doc_vector'])\n",
    "    return np.concatenate([doc_vector, numerical_vector])\n",
    "\n",
    "\n",
    "\n",
    "songs['combined_vector'] = [combine_vectors(row, numerical_vectors[i]) for i, row in songs.iterrows()]"
   ]
  },
  {
   "cell_type": "markdown",
   "id": "ec03b598",
   "metadata": {
    "papermill": {
     "duration": 0.003542,
     "end_time": "2025-02-21T11:16:47.454895",
     "exception": false,
     "start_time": "2025-02-21T11:16:47.451353",
     "status": "completed"
    },
    "tags": []
   },
   "source": [
    "### 8. Computing Song Similarity\n",
    "### Using cosine similarity to find songs similar to a given track."
   ]
  },
  {
   "cell_type": "code",
   "execution_count": 9,
   "id": "7f4c108b",
   "metadata": {
    "execution": {
     "iopub.execute_input": "2025-02-21T11:16:47.463752Z",
     "iopub.status.busy": "2025-02-21T11:16:47.463297Z",
     "iopub.status.idle": "2025-02-21T11:16:47.511134Z",
     "shell.execute_reply": "2025-02-21T11:16:47.509684Z"
    },
    "papermill": {
     "duration": 0.055292,
     "end_time": "2025-02-21T11:16:47.513833",
     "exception": false,
     "start_time": "2025-02-21T11:16:47.458541",
     "status": "completed"
    },
    "tags": []
   },
   "outputs": [],
   "source": [
    "combined_vector_matrix = np.vstack(songs['combined_vector'].values)\n",
    "similarity_matrix = cosine_similarity(combined_vector_matrix, combined_vector_matrix)"
   ]
  },
  {
   "cell_type": "markdown",
   "id": "53ef925a",
   "metadata": {
    "papermill": {
     "duration": 0.003695,
     "end_time": "2025-02-21T11:16:47.522908",
     "exception": false,
     "start_time": "2025-02-21T11:16:47.519213",
     "status": "completed"
    },
    "tags": []
   },
   "source": [
    "### 9. Song Recommendation Function\n",
    "### A function to recommend similar songs based on a given song."
   ]
  },
  {
   "cell_type": "code",
   "execution_count": 10,
   "id": "9bd3a75c",
   "metadata": {
    "execution": {
     "iopub.execute_input": "2025-02-21T11:16:47.532366Z",
     "iopub.status.busy": "2025-02-21T11:16:47.531973Z",
     "iopub.status.idle": "2025-02-21T11:16:47.537244Z",
     "shell.execute_reply": "2025-02-21T11:16:47.536365Z"
    },
    "papermill": {
     "duration": 0.011456,
     "end_time": "2025-02-21T11:16:47.538548",
     "exception": false,
     "start_time": "2025-02-21T11:16:47.527092",
     "status": "completed"
    },
    "tags": []
   },
   "outputs": [],
   "source": [
    "def get_recommendation(song_name, similarity_matrix, songs):\n",
    "    try:\n",
    "        matches = songs[songs['track_name'].str.lower().str.strip() == song_name.lower().strip()]\n",
    "        song_index = matches.index[0]\n",
    "    except Exception as e:\n",
    "        return f\"Error: {e}\", []\n",
    "    \n",
    "    sim_scores = list(enumerate(similarity_matrix[song_index]))\n",
    "    sim_scores = sorted(sim_scores, key=lambda x: x[1], reverse=True)\n",
    "    top_similar_songs = sim_scores[1:7]\n",
    "    recommended_songs = [songs.iloc[i[0]]['track_name'] for i in top_similar_songs]\n",
    "    return recommended_songs"
   ]
  },
  {
   "cell_type": "markdown",
   "id": "0e0f884a",
   "metadata": {
    "papermill": {
     "duration": 0.004712,
     "end_time": "2025-02-21T11:16:47.548364",
     "exception": false,
     "start_time": "2025-02-21T11:16:47.543652",
     "status": "completed"
    },
    "tags": []
   },
   "source": [
    "### 10. Visualization of Clustering\n",
    "### Plotting elbow method and silhouette scores to choose optimal k for KMeans."
   ]
  },
  {
   "cell_type": "code",
   "execution_count": 11,
   "id": "838bc5c4",
   "metadata": {
    "execution": {
     "iopub.execute_input": "2025-02-21T11:16:47.558730Z",
     "iopub.status.busy": "2025-02-21T11:16:47.558420Z",
     "iopub.status.idle": "2025-02-21T11:16:48.151854Z",
     "shell.execute_reply": "2025-02-21T11:16:48.150766Z"
    },
    "papermill": {
     "duration": 0.600168,
     "end_time": "2025-02-21T11:16:48.153230",
     "exception": false,
     "start_time": "2025-02-21T11:16:47.553062",
     "status": "completed"
    },
    "tags": []
   },
   "outputs": [
    {
     "data": {
      "image/png": "[encoded data removed]",
      "text/plain": [
       "<Figure size 640x480 with 1 Axes>"
      ]
     },
     "metadata": {},
     "output_type": "display_data"
    }
   ],
   "source": [
    "wcss = []\n",
    "for k in range(1, 11):\n",
    "    kmeans = KMeans(n_clusters=k, random_state=42, n_init=10)\n",
    "    kmeans.fit(songs[numerical_columns])\n",
    "    wcss.append(kmeans.inertia_)\n",
    "\n",
    "plt.plot(range(1, 11), wcss)\n",
    "plt.xlabel(\"Number of Clusters (k)\")\n",
    "plt.ylabel(\"WCSS\")\n",
    "plt.title(\"Elbow Method for Optimal k\")\n",
    "plt.show()"
   ]
  },
  {
   "cell_type": "markdown",
   "id": "8c222a66",
   "metadata": {
    "papermill": {
     "duration": 0.003694,
     "end_time": "2025-02-21T11:16:48.161255",
     "exception": false,
     "start_time": "2025-02-21T11:16:48.157561",
     "status": "completed"
    },
    "tags": []
   },
   "source": [
    "### Display silhouette scores for different values of k"
   ]
  },
  {
   "cell_type": "code",
   "execution_count": 12,
   "id": "7340d347",
   "metadata": {
    "execution": {
     "iopub.execute_input": "2025-02-21T11:16:48.170697Z",
     "iopub.status.busy": "2025-02-21T11:16:48.170298Z",
     "iopub.status.idle": "2025-02-21T11:16:48.362404Z",
     "shell.execute_reply": "2025-02-21T11:16:48.361237Z"
    },
    "papermill": {
     "duration": 0.199145,
     "end_time": "2025-02-21T11:16:48.364263",
     "exception": false,
     "start_time": "2025-02-21T11:16:48.165118",
     "status": "completed"
    },
    "tags": []
   },
   "outputs": [
    {
     "name": "stdout",
     "output_type": "stream",
     "text": [
      "Silhouette Score for k=3: 0.24089620358156486\n",
      "Silhouette Score for k=4: 0.24986103131141751\n",
      "Silhouette Score for k=5: 0.25670124393835986\n",
      "Silhouette Score for k=6: 0.2529208996582208\n"
     ]
    }
   ],
   "source": [
    "for k in range(3, 7):\n",
    "    kmeans = KMeans(n_clusters=k, random_state=42, n_init=10)\n",
    "    labels = kmeans.fit_predict(songs[numerical_columns])\n",
    "    score = silhouette_score(songs[numerical_columns], labels)\n",
    "    print(f\"Silhouette Score for k={k}: {score}\")"
   ]
  },
  {
   "cell_type": "markdown",
   "id": "3306a2e1",
   "metadata": {
    "papermill": {
     "duration": 0.004425,
     "end_time": "2025-02-21T11:16:48.374123",
     "exception": false,
     "start_time": "2025-02-21T11:16:48.369698",
     "status": "completed"
    },
    "tags": []
   },
   "source": [
    "### 11. Clustering Songs Based on Features\n",
    "### Using K-Means clustering to group songs based on numerical attributes.\n",
    "### Number of clusters is taken as 5"
   ]
  },
  {
   "cell_type": "code",
   "execution_count": 13,
   "id": "8ef46149",
   "metadata": {
    "execution": {
     "iopub.execute_input": "2025-02-21T11:16:48.383296Z",
     "iopub.status.busy": "2025-02-21T11:16:48.382980Z",
     "iopub.status.idle": "2025-02-21T11:16:48.416066Z",
     "shell.execute_reply": "2025-02-21T11:16:48.415375Z"
    },
    "papermill": {
     "duration": 0.039677,
     "end_time": "2025-02-21T11:16:48.417886",
     "exception": false,
     "start_time": "2025-02-21T11:16:48.378209",
     "status": "completed"
    },
    "tags": []
   },
   "outputs": [],
   "source": [
    "kmeans = KMeans(n_clusters=5, random_state=42, n_init=10)\n",
    "songs['cluster'] = kmeans.fit_predict(songs[numerical_columns])"
   ]
  },
  {
   "cell_type": "markdown",
   "id": "db7723b6",
   "metadata": {
    "papermill": {
     "duration": 0.003807,
     "end_time": "2025-02-21T11:16:48.426571",
     "exception": false,
     "start_time": "2025-02-21T11:16:48.422764",
     "status": "completed"
    },
    "tags": []
   },
   "source": [
    "### 12. Conclusion\n",
    "### - We have successfully built a **Song Recommendation System** using **Word2Vec** embeddings and **cosine similarity**.\n",
    "### - We also performed **K-Means clustering** to group songs based on numerical attributes."
   ]
  }
 ],
 "metadata": {
  "kaggle": {
   "accelerator": "none",
   "dataSources": [
    {
     "datasetId": 6712883,
     "sourceId": 10813173,
     "sourceType": "datasetVersion"
    }
   ],
   "dockerImageVersionId": 30918,
   "isGpuEnabled": false,
   "isInternetEnabled": true,
   "language": "python",
   "sourceType": "notebook"
  },
  "kernelspec": {
   "display_name": "Python 3 (ipykernel)",
   "language": "python",
   "name": "python3"
  },
  "language_info": {
   "codemirror_mode": {
    "name": "ipython",
    "version": 3
   },
   "file_extension": ".py",
   "mimetype": "text/x-python",
   "name": "python",
   "nbconvert_exporter": "python",
   "pygments_lexer": "ipython3",
   "version": "3.12.7"
  },
  "papermill": {
   "default_parameters": {},
   "duration": 91.361254,
   "end_time": "2025-02-21T11:16:50.055648",
   "environment_variables": {},
   "exception": null,
   "input_path": "__notebook__.ipynb",
   "output_path": "__notebook__.ipynb",
   "parameters": {},
   "start_time": "2025-02-21T11:15:18.694394",
   "version": "2.6.0"
  }
 },
 "nbformat": 4,
 "nbformat_minor": 5
}
