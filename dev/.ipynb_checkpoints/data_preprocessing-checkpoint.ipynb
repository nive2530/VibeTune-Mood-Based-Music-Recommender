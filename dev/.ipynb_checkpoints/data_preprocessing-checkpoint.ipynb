{
 "cells": [
  {
   "cell_type": "markdown",
   "metadata": {},
   "source": [
    "# Spotify Dataset Cleaning and Preprocessing"
   ]
  },
  {
   "cell_type": "markdown",
   "metadata": {},
   "source": [
    "There are totally 5 CSV files to clean and process. "
   ]
  },
  {
   "cell_type": "markdown",
   "metadata": {},
   "source": [
    "1. spotify_tracks_data_2023.csv\n",
    "2. spotify_albums_data_2023.csv\n",
    "3. spotify_artist_data_2023.csv\n",
    "4. spotify_data_2023.csv\n",
    "5. spotify_features_data_2023.csv"
   ]
  },
  {
   "cell_type": "markdown",
   "metadata": {},
   "source": [
    "# Lets go through each csv and understand the variables present and start cleaning accordingly."
   ]
  },
  {
   "cell_type": "markdown",
   "metadata": {},
   "source": [
    "### Import the necessary python libraries"
   ]
  },
  {
   "cell_type": "code",
   "execution_count": 219,
   "metadata": {},
   "outputs": [],
   "source": [
    "import numpy as np\n",
    "import pandas as pd\n",
    "import matplotlib.pyplot as plt\n",
    "import seaborn as sns \n",
    "from sklearn.preprocessing import StandardScaler, MinMaxScaler\n",
    "import re\n",
    "import missingno as msno"
   ]
  },
  {
   "cell_type": "markdown",
   "metadata": {},
   "source": [
    "## spotify_tracks_data_2023"
   ]
  },
  {
   "cell_type": "markdown",
   "metadata": {},
   "source": [
    "### Step1: Convert the csv file to pandas and read the first 5 rows"
   ]
  },
  {
   "cell_type": "code",
   "execution_count": 220,
   "metadata": {},
   "outputs": [
    {
     "data": {
      "text/html": [
       "<div>\n",
       "<style scoped>\n",
       "    .dataframe tbody tr th:only-of-type {\n",
       "        vertical-align: middle;\n",
       "    }\n",
       "\n",
       "    .dataframe tbody tr th {\n",
       "        vertical-align: top;\n",
       "    }\n",
       "\n",
       "    .dataframe thead th {\n",
       "        text-align: right;\n",
       "    }\n",
       "</style>\n",
       "<table border=\"1\" class=\"dataframe\">\n",
       "  <thead>\n",
       "    <tr style=\"text-align: right;\">\n",
       "      <th></th>\n",
       "      <th>id</th>\n",
       "      <th>track_popularity</th>\n",
       "      <th>explicit</th>\n",
       "    </tr>\n",
       "  </thead>\n",
       "  <tbody>\n",
       "    <tr>\n",
       "      <th>0</th>\n",
       "      <td>02MBhqgR7WeeI4ZfB6Lo0i</td>\n",
       "      <td>0</td>\n",
       "      <td>False</td>\n",
       "    </tr>\n",
       "    <tr>\n",
       "      <th>1</th>\n",
       "      <td>5j4M4gLYuUy9PVw0vsXWyq</td>\n",
       "      <td>0</td>\n",
       "      <td>False</td>\n",
       "    </tr>\n",
       "    <tr>\n",
       "      <th>2</th>\n",
       "      <td>46EucLPJpx0QM3SCjzzdP0</td>\n",
       "      <td>0</td>\n",
       "      <td>False</td>\n",
       "    </tr>\n",
       "    <tr>\n",
       "      <th>3</th>\n",
       "      <td>4nK2LvW3osgDT89S38Mcg6</td>\n",
       "      <td>0</td>\n",
       "      <td>False</td>\n",
       "    </tr>\n",
       "    <tr>\n",
       "      <th>4</th>\n",
       "      <td>1Pq37WIQZDG7yNFnY5IbqG</td>\n",
       "      <td>0</td>\n",
       "      <td>False</td>\n",
       "    </tr>\n",
       "  </tbody>\n",
       "</table>\n",
       "</div>"
      ],
      "text/plain": [
       "                       id  track_popularity  explicit\n",
       "0  02MBhqgR7WeeI4ZfB6Lo0i                 0     False\n",
       "1  5j4M4gLYuUy9PVw0vsXWyq                 0     False\n",
       "2  46EucLPJpx0QM3SCjzzdP0                 0     False\n",
       "3  4nK2LvW3osgDT89S38Mcg6                 0     False\n",
       "4  1Pq37WIQZDG7yNFnY5IbqG                 0     False"
      ]
     },
     "execution_count": 220,
     "metadata": {},
     "output_type": "execute_result"
    }
   ],
   "source": [
    "# converting csv to pandas dataframe \n",
    "df_tracks = pd.read_csv(\"Spotify-Dataset\\spotify_tracks_data_2023.csv\")\n",
    "\n",
    "# reading the first 5 rows\n",
    "df_tracks.head()"
   ]
  },
  {
   "cell_type": "markdown",
   "metadata": {},
   "source": [
    "#### Column Description"
   ]
  },
  {
   "cell_type": "markdown",
   "metadata": {},
   "source": [
    "1. id : The Spotify ID for the track.\n",
    "\n",
    "2. track_popularity : The popularity of a track is a value between 0 and 100, with 100 being the most popular.\n",
    "\n",
    "3. explicit : Whether or not the track has explicit lyrics ( true = yes it does; false = no it does not OR unknown)."
   ]
  },
  {
   "cell_type": "markdown",
   "metadata": {},
   "source": [
    "#### Changes to be made"
   ]
  },
  {
   "cell_type": "markdown",
   "metadata": {},
   "source": [
    "1. Change column name id to track_id and explicit to explicit_lyrics\n",
    "\n",
    "2. Impute numerical values in explicit_lyrics column [0 - false/ 1 - true]"
   ]
  },
  {
   "cell_type": "code",
   "execution_count": 221,
   "metadata": {},
   "outputs": [],
   "source": [
    "# change column names\n",
    "df_tracks = df_tracks.rename(columns={'id': 'track_id', 'explicit' : 'explicit_lyrics'})"
   ]
  },
  {
   "cell_type": "code",
   "execution_count": 222,
   "metadata": {},
   "outputs": [
    {
     "data": {
      "text/html": [
       "<div>\n",
       "<style scoped>\n",
       "    .dataframe tbody tr th:only-of-type {\n",
       "        vertical-align: middle;\n",
       "    }\n",
       "\n",
       "    .dataframe tbody tr th {\n",
       "        vertical-align: top;\n",
       "    }\n",
       "\n",
       "    .dataframe thead th {\n",
       "        text-align: right;\n",
       "    }\n",
       "</style>\n",
       "<table border=\"1\" class=\"dataframe\">\n",
       "  <thead>\n",
       "    <tr style=\"text-align: right;\">\n",
       "      <th></th>\n",
       "      <th>track_id</th>\n",
       "      <th>track_popularity</th>\n",
       "      <th>explicit_lyrics</th>\n",
       "    </tr>\n",
       "  </thead>\n",
       "  <tbody>\n",
       "    <tr>\n",
       "      <th>0</th>\n",
       "      <td>02MBhqgR7WeeI4ZfB6Lo0i</td>\n",
       "      <td>0</td>\n",
       "      <td>False</td>\n",
       "    </tr>\n",
       "    <tr>\n",
       "      <th>1</th>\n",
       "      <td>5j4M4gLYuUy9PVw0vsXWyq</td>\n",
       "      <td>0</td>\n",
       "      <td>False</td>\n",
       "    </tr>\n",
       "    <tr>\n",
       "      <th>2</th>\n",
       "      <td>46EucLPJpx0QM3SCjzzdP0</td>\n",
       "      <td>0</td>\n",
       "      <td>False</td>\n",
       "    </tr>\n",
       "    <tr>\n",
       "      <th>3</th>\n",
       "      <td>4nK2LvW3osgDT89S38Mcg6</td>\n",
       "      <td>0</td>\n",
       "      <td>False</td>\n",
       "    </tr>\n",
       "    <tr>\n",
       "      <th>4</th>\n",
       "      <td>1Pq37WIQZDG7yNFnY5IbqG</td>\n",
       "      <td>0</td>\n",
       "      <td>False</td>\n",
       "    </tr>\n",
       "  </tbody>\n",
       "</table>\n",
       "</div>"
      ],
      "text/plain": [
       "                 track_id  track_popularity  explicit_lyrics\n",
       "0  02MBhqgR7WeeI4ZfB6Lo0i                 0            False\n",
       "1  5j4M4gLYuUy9PVw0vsXWyq                 0            False\n",
       "2  46EucLPJpx0QM3SCjzzdP0                 0            False\n",
       "3  4nK2LvW3osgDT89S38Mcg6                 0            False\n",
       "4  1Pq37WIQZDG7yNFnY5IbqG                 0            False"
      ]
     },
     "execution_count": 222,
     "metadata": {},
     "output_type": "execute_result"
    }
   ],
   "source": [
    "# checking if the column names are changed\n",
    "df_tracks.head()"
   ]
  },
  {
   "cell_type": "code",
   "execution_count": 223,
   "metadata": {},
   "outputs": [],
   "source": [
    "# imputing numerical values in explicit_lyrics column [0 - false/ 1 - true]\n",
    "df_tracks.explicit_lyrics = df_tracks.explicit_lyrics.apply(lambda x : 1 if x == 'True' else 0)"
   ]
  },
  {
   "cell_type": "code",
   "execution_count": 224,
   "metadata": {},
   "outputs": [
    {
     "name": "stdout",
     "output_type": "stream",
     "text": [
      "<class 'pandas.core.frame.DataFrame'>\n",
      "RangeIndex: 438938 entries, 0 to 438937\n",
      "Data columns (total 3 columns):\n",
      " #   Column            Non-Null Count   Dtype \n",
      "---  ------            --------------   ----- \n",
      " 0   track_id          438938 non-null  object\n",
      " 1   track_popularity  438938 non-null  int64 \n",
      " 2   explicit_lyrics   438938 non-null  int64 \n",
      "dtypes: int64(2), object(1)\n",
      "memory usage: 10.0+ MB\n"
     ]
    }
   ],
   "source": [
    "# Reading the head \n",
    "df_tracks.head()\n",
    "\n",
    "# Getting the info of the df\n",
    "df_tracks.info()"
   ]
  },
  {
   "cell_type": "code",
   "execution_count": 225,
   "metadata": {},
   "outputs": [
    {
     "data": {
      "text/plain": [
       "{'whiskers': [<matplotlib.lines.Line2D at 0x249e6759b50>,\n",
       "  <matplotlib.lines.Line2D at 0x249e6759c10>],\n",
       " 'caps': [<matplotlib.lines.Line2D at 0x249e675a1e0>,\n",
       "  <matplotlib.lines.Line2D at 0x249e675a690>],\n",
       " 'boxes': [<matplotlib.lines.Line2D at 0x249e6759a00>],\n",
       " 'medians': [<matplotlib.lines.Line2D at 0x249e67598b0>],\n",
       " 'fliers': [<matplotlib.lines.Line2D at 0x249e675a960>],\n",
       " 'means': []}"
      ]
     },
     "execution_count": 225,
     "metadata": {},
     "output_type": "execute_result"
    },
    {
     "data": {
      "image/png": "[encoded data removed]",
      "text/plain": [
       "<Figure size 640x480 with 1 Axes>"
      ]
     },
     "metadata": {},
     "output_type": "display_data"
    }
   ],
   "source": [
    "# Checking if track_popularity has any outliers using boxplot\n",
    "plt.boxplot(df_tracks['track_popularity'])"
   ]
  },
  {
   "cell_type": "markdown",
   "metadata": {},
   "source": [
    "No outliers are present in the dataframe. Every value is within 100. "
   ]
  },
  {
   "cell_type": "code",
   "execution_count": 226,
   "metadata": {},
   "outputs": [
    {
     "data": {
      "text/plain": [
       "438938"
      ]
     },
     "execution_count": 226,
     "metadata": {},
     "output_type": "execute_result"
    }
   ],
   "source": [
    "# checking the unique value count of track_id\n",
    "df_tracks['track_id'].nunique()\n"
   ]
  },
  {
   "cell_type": "markdown",
   "metadata": {},
   "source": [
    "* It is confirmed that, there are totally 4,38,938 unique tracks"
   ]
  },
  {
   "cell_type": "code",
   "execution_count": 227,
   "metadata": {},
   "outputs": [
    {
     "data": {
      "text/plain": [
       "explicit_lyrics\n",
       "0    438938\n",
       "Name: count, dtype: int64"
      ]
     },
     "execution_count": 227,
     "metadata": {},
     "output_type": "execute_result"
    }
   ],
   "source": [
    "# checking the value count of explicit_lyrics\n",
    "df_tracks['explicit_lyrics'].value_counts()"
   ]
  },
  {
   "cell_type": "markdown",
   "metadata": {},
   "source": [
    "* It is observed that, explicit lyrics for all tracks is 0, meaning there is no lyrics available for all tracks.\n",
    "\n",
    "* Therefore, we can drop the explicit_lyrics column as it doesn't add any value to the dataset."
   ]
  },
  {
   "cell_type": "code",
   "execution_count": 228,
   "metadata": {},
   "outputs": [
    {
     "data": {
      "text/html": [
       "<div>\n",
       "<style scoped>\n",
       "    .dataframe tbody tr th:only-of-type {\n",
       "        vertical-align: middle;\n",
       "    }\n",
       "\n",
       "    .dataframe tbody tr th {\n",
       "        vertical-align: top;\n",
       "    }\n",
       "\n",
       "    .dataframe thead th {\n",
       "        text-align: right;\n",
       "    }\n",
       "</style>\n",
       "<table border=\"1\" class=\"dataframe\">\n",
       "  <thead>\n",
       "    <tr style=\"text-align: right;\">\n",
       "      <th></th>\n",
       "      <th>track_id</th>\n",
       "      <th>track_popularity</th>\n",
       "    </tr>\n",
       "  </thead>\n",
       "  <tbody>\n",
       "    <tr>\n",
       "      <th>0</th>\n",
       "      <td>02MBhqgR7WeeI4ZfB6Lo0i</td>\n",
       "      <td>0</td>\n",
       "    </tr>\n",
       "    <tr>\n",
       "      <th>1</th>\n",
       "      <td>5j4M4gLYuUy9PVw0vsXWyq</td>\n",
       "      <td>0</td>\n",
       "    </tr>\n",
       "    <tr>\n",
       "      <th>2</th>\n",
       "      <td>46EucLPJpx0QM3SCjzzdP0</td>\n",
       "      <td>0</td>\n",
       "    </tr>\n",
       "    <tr>\n",
       "      <th>3</th>\n",
       "      <td>4nK2LvW3osgDT89S38Mcg6</td>\n",
       "      <td>0</td>\n",
       "    </tr>\n",
       "    <tr>\n",
       "      <th>4</th>\n",
       "      <td>1Pq37WIQZDG7yNFnY5IbqG</td>\n",
       "      <td>0</td>\n",
       "    </tr>\n",
       "  </tbody>\n",
       "</table>\n",
       "</div>"
      ],
      "text/plain": [
       "                 track_id  track_popularity\n",
       "0  02MBhqgR7WeeI4ZfB6Lo0i                 0\n",
       "1  5j4M4gLYuUy9PVw0vsXWyq                 0\n",
       "2  46EucLPJpx0QM3SCjzzdP0                 0\n",
       "3  4nK2LvW3osgDT89S38Mcg6                 0\n",
       "4  1Pq37WIQZDG7yNFnY5IbqG                 0"
      ]
     },
     "execution_count": 228,
     "metadata": {},
     "output_type": "execute_result"
    }
   ],
   "source": [
    "# dropping explicit_lyrics column\n",
    "df_tracks = df_tracks.drop(columns=['explicit_lyrics'], axis=1)\n",
    "\n",
    "# getting the head of the df\n",
    "df_tracks.head()"
   ]
  },
  {
   "cell_type": "code",
   "execution_count": 229,
   "metadata": {},
   "outputs": [
    {
     "data": {
      "text/plain": [
       "track_id            0\n",
       "track_popularity    0\n",
       "dtype: int64"
      ]
     },
     "execution_count": 229,
     "metadata": {},
     "output_type": "execute_result"
    }
   ],
   "source": [
    "# checking the null values \n",
    "df_tracks.isna().sum()"
   ]
  },
  {
   "cell_type": "markdown",
   "metadata": {},
   "source": [
    "## Spotify_features_data_2023"
   ]
  },
  {
   "cell_type": "code",
   "execution_count": 230,
   "metadata": {},
   "outputs": [
    {
     "data": {
      "text/html": [
       "<div>\n",
       "<style scoped>\n",
       "    .dataframe tbody tr th:only-of-type {\n",
       "        vertical-align: middle;\n",
       "    }\n",
       "\n",
       "    .dataframe tbody tr th {\n",
       "        vertical-align: top;\n",
       "    }\n",
       "\n",
       "    .dataframe thead th {\n",
       "        text-align: right;\n",
       "    }\n",
       "</style>\n",
       "<table border=\"1\" class=\"dataframe\">\n",
       "  <thead>\n",
       "    <tr style=\"text-align: right;\">\n",
       "      <th></th>\n",
       "      <th>danceability</th>\n",
       "      <th>energy</th>\n",
       "      <th>key</th>\n",
       "      <th>loudness</th>\n",
       "      <th>mode</th>\n",
       "      <th>speechiness</th>\n",
       "      <th>acousticness</th>\n",
       "      <th>instrumentalness</th>\n",
       "      <th>liveness</th>\n",
       "      <th>valence</th>\n",
       "      <th>tempo</th>\n",
       "      <th>type</th>\n",
       "      <th>id</th>\n",
       "      <th>uri</th>\n",
       "      <th>track_href</th>\n",
       "      <th>analysis_url</th>\n",
       "      <th>duration_ms</th>\n",
       "      <th>time_signature</th>\n",
       "    </tr>\n",
       "  </thead>\n",
       "  <tbody>\n",
       "    <tr>\n",
       "      <th>0</th>\n",
       "      <td>0.460</td>\n",
       "      <td>0.125</td>\n",
       "      <td>11</td>\n",
       "      <td>-8.094</td>\n",
       "      <td>0</td>\n",
       "      <td>0.0371</td>\n",
       "      <td>0.891</td>\n",
       "      <td>0.000</td>\n",
       "      <td>0.1650</td>\n",
       "      <td>0.275</td>\n",
       "      <td>75.639</td>\n",
       "      <td>audio_features</td>\n",
       "      <td>18r5gmlp3vQykXCskNJI0e</td>\n",
       "      <td>spotify:track:18r5gmlp3vQykXCskNJI0e</td>\n",
       "      <td>https://api.spotify.com/v1/tracks/18r5gmlp3vQy...</td>\n",
       "      <td>https://api.spotify.com/v1/audio-analysis/18r5...</td>\n",
       "      <td>89969</td>\n",
       "      <td>5</td>\n",
       "    </tr>\n",
       "    <tr>\n",
       "      <th>1</th>\n",
       "      <td>0.621</td>\n",
       "      <td>0.125</td>\n",
       "      <td>10</td>\n",
       "      <td>-19.686</td>\n",
       "      <td>0</td>\n",
       "      <td>0.0376</td>\n",
       "      <td>0.977</td>\n",
       "      <td>0.916</td>\n",
       "      <td>0.1040</td>\n",
       "      <td>0.321</td>\n",
       "      <td>166.048</td>\n",
       "      <td>audio_features</td>\n",
       "      <td>0zfslMAEFfuIjkgxa6tEPc</td>\n",
       "      <td>spotify:track:0zfslMAEFfuIjkgxa6tEPc</td>\n",
       "      <td>https://api.spotify.com/v1/tracks/0zfslMAEFfuI...</td>\n",
       "      <td>https://api.spotify.com/v1/audio-analysis/0zfs...</td>\n",
       "      <td>188793</td>\n",
       "      <td>4</td>\n",
       "    </tr>\n",
       "    <tr>\n",
       "      <th>2</th>\n",
       "      <td>0.351</td>\n",
       "      <td>0.125</td>\n",
       "      <td>6</td>\n",
       "      <td>-18.151</td>\n",
       "      <td>0</td>\n",
       "      <td>0.0421</td>\n",
       "      <td>0.985</td>\n",
       "      <td>0.927</td>\n",
       "      <td>0.0972</td>\n",
       "      <td>0.157</td>\n",
       "      <td>100.256</td>\n",
       "      <td>audio_features</td>\n",
       "      <td>0Ah41mjuPtj9TXfElZ59WK</td>\n",
       "      <td>spotify:track:0Ah41mjuPtj9TXfElZ59WK</td>\n",
       "      <td>https://api.spotify.com/v1/tracks/0Ah41mjuPtj9...</td>\n",
       "      <td>https://api.spotify.com/v1/audio-analysis/0Ah4...</td>\n",
       "      <td>191360</td>\n",
       "      <td>4</td>\n",
       "    </tr>\n",
       "    <tr>\n",
       "      <th>3</th>\n",
       "      <td>0.638</td>\n",
       "      <td>0.125</td>\n",
       "      <td>4</td>\n",
       "      <td>-15.454</td>\n",
       "      <td>1</td>\n",
       "      <td>0.0548</td>\n",
       "      <td>0.995</td>\n",
       "      <td>0.960</td>\n",
       "      <td>0.0883</td>\n",
       "      <td>0.240</td>\n",
       "      <td>69.976</td>\n",
       "      <td>audio_features</td>\n",
       "      <td>1HQwCt2tFgnYyPzY019ZpI</td>\n",
       "      <td>spotify:track:1HQwCt2tFgnYyPzY019ZpI</td>\n",
       "      <td>https://api.spotify.com/v1/tracks/1HQwCt2tFgnY...</td>\n",
       "      <td>https://api.spotify.com/v1/audio-analysis/1HQw...</td>\n",
       "      <td>190717</td>\n",
       "      <td>4</td>\n",
       "    </tr>\n",
       "    <tr>\n",
       "      <th>4</th>\n",
       "      <td>0.857</td>\n",
       "      <td>0.125</td>\n",
       "      <td>7</td>\n",
       "      <td>-18.150</td>\n",
       "      <td>1</td>\n",
       "      <td>0.4470</td>\n",
       "      <td>0.904</td>\n",
       "      <td>0.926</td>\n",
       "      <td>0.0948</td>\n",
       "      <td>0.608</td>\n",
       "      <td>159.953</td>\n",
       "      <td>audio_features</td>\n",
       "      <td>4j1lMVFE9H5Av6wxRhteSA</td>\n",
       "      <td>spotify:track:4j1lMVFE9H5Av6wxRhteSA</td>\n",
       "      <td>https://api.spotify.com/v1/tracks/4j1lMVFE9H5A...</td>\n",
       "      <td>https://api.spotify.com/v1/audio-analysis/4j1l...</td>\n",
       "      <td>213750</td>\n",
       "      <td>4</td>\n",
       "    </tr>\n",
       "  </tbody>\n",
       "</table>\n",
       "</div>"
      ],
      "text/plain": [
       "   danceability  energy  key  loudness  mode  speechiness  acousticness  \\\n",
       "0         0.460   0.125   11    -8.094     0       0.0371         0.891   \n",
       "1         0.621   0.125   10   -19.686     0       0.0376         0.977   \n",
       "2         0.351   0.125    6   -18.151     0       0.0421         0.985   \n",
       "3         0.638   0.125    4   -15.454     1       0.0548         0.995   \n",
       "4         0.857   0.125    7   -18.150     1       0.4470         0.904   \n",
       "\n",
       "   instrumentalness  liveness  valence    tempo            type  \\\n",
       "0             0.000    0.1650    0.275   75.639  audio_features   \n",
       "1             0.916    0.1040    0.321  166.048  audio_features   \n",
       "2             0.927    0.0972    0.157  100.256  audio_features   \n",
       "3             0.960    0.0883    0.240   69.976  audio_features   \n",
       "4             0.926    0.0948    0.608  159.953  audio_features   \n",
       "\n",
       "                       id                                   uri  \\\n",
       "0  18r5gmlp3vQykXCskNJI0e  spotify:track:18r5gmlp3vQykXCskNJI0e   \n",
       "1  0zfslMAEFfuIjkgxa6tEPc  spotify:track:0zfslMAEFfuIjkgxa6tEPc   \n",
       "2  0Ah41mjuPtj9TXfElZ59WK  spotify:track:0Ah41mjuPtj9TXfElZ59WK   \n",
       "3  1HQwCt2tFgnYyPzY019ZpI  spotify:track:1HQwCt2tFgnYyPzY019ZpI   \n",
       "4  4j1lMVFE9H5Av6wxRhteSA  spotify:track:4j1lMVFE9H5Av6wxRhteSA   \n",
       "\n",
       "                                          track_href  \\\n",
       "0  https://api.spotify.com/v1/tracks/18r5gmlp3vQy...   \n",
       "1  https://api.spotify.com/v1/tracks/0zfslMAEFfuI...   \n",
       "2  https://api.spotify.com/v1/tracks/0Ah41mjuPtj9...   \n",
       "3  https://api.spotify.com/v1/tracks/1HQwCt2tFgnY...   \n",
       "4  https://api.spotify.com/v1/tracks/4j1lMVFE9H5A...   \n",
       "\n",
       "                                        analysis_url  duration_ms  \\\n",
       "0  https://api.spotify.com/v1/audio-analysis/18r5...        89969   \n",
       "1  https://api.spotify.com/v1/audio-analysis/0zfs...       188793   \n",
       "2  https://api.spotify.com/v1/audio-analysis/0Ah4...       191360   \n",
       "3  https://api.spotify.com/v1/audio-analysis/1HQw...       190717   \n",
       "4  https://api.spotify.com/v1/audio-analysis/4j1l...       213750   \n",
       "\n",
       "   time_signature  \n",
       "0               5  \n",
       "1               4  \n",
       "2               4  \n",
       "3               4  \n",
       "4               4  "
      ]
     },
     "execution_count": 230,
     "metadata": {},
     "output_type": "execute_result"
    }
   ],
   "source": [
    "# Converting csv to pandas dataframe \n",
    "df_features = pd.read_csv(\"Spotify-Dataset\\spotify_features_data_2023.csv\")\n",
    "\n",
    "# Reading the first 5 rows to know about the dataset\n",
    "df_features.head()"
   ]
  },
  {
   "cell_type": "markdown",
   "metadata": {},
   "source": [
    "#### Dropping down few unnecessary columns"
   ]
  },
  {
   "cell_type": "code",
   "execution_count": 231,
   "metadata": {},
   "outputs": [],
   "source": [
    "# columns to be dropped\n",
    "drop_columns = ['key', 'acousticness', 'tempo', 'analysis_url', 'time_signature']\n",
    "\n",
    "# dropping columns\n",
    "df_features = df_features.drop(columns=drop_columns, axis=1)"
   ]
  },
  {
   "cell_type": "code",
   "execution_count": 232,
   "metadata": {},
   "outputs": [
    {
     "data": {
      "text/html": [
       "<div>\n",
       "<style scoped>\n",
       "    .dataframe tbody tr th:only-of-type {\n",
       "        vertical-align: middle;\n",
       "    }\n",
       "\n",
       "    .dataframe tbody tr th {\n",
       "        vertical-align: top;\n",
       "    }\n",
       "\n",
       "    .dataframe thead th {\n",
       "        text-align: right;\n",
       "    }\n",
       "</style>\n",
       "<table border=\"1\" class=\"dataframe\">\n",
       "  <thead>\n",
       "    <tr style=\"text-align: right;\">\n",
       "      <th></th>\n",
       "      <th>danceability</th>\n",
       "      <th>energy</th>\n",
       "      <th>loudness</th>\n",
       "      <th>mode</th>\n",
       "      <th>speechiness</th>\n",
       "      <th>instrumentalness</th>\n",
       "      <th>liveness</th>\n",
       "      <th>valence</th>\n",
       "      <th>type</th>\n",
       "      <th>id</th>\n",
       "      <th>uri</th>\n",
       "      <th>track_href</th>\n",
       "      <th>duration_ms</th>\n",
       "    </tr>\n",
       "  </thead>\n",
       "  <tbody>\n",
       "    <tr>\n",
       "      <th>0</th>\n",
       "      <td>0.460</td>\n",
       "      <td>0.125</td>\n",
       "      <td>-8.094</td>\n",
       "      <td>0</td>\n",
       "      <td>0.0371</td>\n",
       "      <td>0.000</td>\n",
       "      <td>0.1650</td>\n",
       "      <td>0.275</td>\n",
       "      <td>audio_features</td>\n",
       "      <td>18r5gmlp3vQykXCskNJI0e</td>\n",
       "      <td>spotify:track:18r5gmlp3vQykXCskNJI0e</td>\n",
       "      <td>https://api.spotify.com/v1/tracks/18r5gmlp3vQy...</td>\n",
       "      <td>89969</td>\n",
       "    </tr>\n",
       "    <tr>\n",
       "      <th>1</th>\n",
       "      <td>0.621</td>\n",
       "      <td>0.125</td>\n",
       "      <td>-19.686</td>\n",
       "      <td>0</td>\n",
       "      <td>0.0376</td>\n",
       "      <td>0.916</td>\n",
       "      <td>0.1040</td>\n",
       "      <td>0.321</td>\n",
       "      <td>audio_features</td>\n",
       "      <td>0zfslMAEFfuIjkgxa6tEPc</td>\n",
       "      <td>spotify:track:0zfslMAEFfuIjkgxa6tEPc</td>\n",
       "      <td>https://api.spotify.com/v1/tracks/0zfslMAEFfuI...</td>\n",
       "      <td>188793</td>\n",
       "    </tr>\n",
       "    <tr>\n",
       "      <th>2</th>\n",
       "      <td>0.351</td>\n",
       "      <td>0.125</td>\n",
       "      <td>-18.151</td>\n",
       "      <td>0</td>\n",
       "      <td>0.0421</td>\n",
       "      <td>0.927</td>\n",
       "      <td>0.0972</td>\n",
       "      <td>0.157</td>\n",
       "      <td>audio_features</td>\n",
       "      <td>0Ah41mjuPtj9TXfElZ59WK</td>\n",
       "      <td>spotify:track:0Ah41mjuPtj9TXfElZ59WK</td>\n",
       "      <td>https://api.spotify.com/v1/tracks/0Ah41mjuPtj9...</td>\n",
       "      <td>191360</td>\n",
       "    </tr>\n",
       "    <tr>\n",
       "      <th>3</th>\n",
       "      <td>0.638</td>\n",
       "      <td>0.125</td>\n",
       "      <td>-15.454</td>\n",
       "      <td>1</td>\n",
       "      <td>0.0548</td>\n",
       "      <td>0.960</td>\n",
       "      <td>0.0883</td>\n",
       "      <td>0.240</td>\n",
       "      <td>audio_features</td>\n",
       "      <td>1HQwCt2tFgnYyPzY019ZpI</td>\n",
       "      <td>spotify:track:1HQwCt2tFgnYyPzY019ZpI</td>\n",
       "      <td>https://api.spotify.com/v1/tracks/1HQwCt2tFgnY...</td>\n",
       "      <td>190717</td>\n",
       "    </tr>\n",
       "    <tr>\n",
       "      <th>4</th>\n",
       "      <td>0.857</td>\n",
       "      <td>0.125</td>\n",
       "      <td>-18.150</td>\n",
       "      <td>1</td>\n",
       "      <td>0.4470</td>\n",
       "      <td>0.926</td>\n",
       "      <td>0.0948</td>\n",
       "      <td>0.608</td>\n",
       "      <td>audio_features</td>\n",
       "      <td>4j1lMVFE9H5Av6wxRhteSA</td>\n",
       "      <td>spotify:track:4j1lMVFE9H5Av6wxRhteSA</td>\n",
       "      <td>https://api.spotify.com/v1/tracks/4j1lMVFE9H5A...</td>\n",
       "      <td>213750</td>\n",
       "    </tr>\n",
       "  </tbody>\n",
       "</table>\n",
       "</div>"
      ],
      "text/plain": [
       "   danceability  energy  loudness  mode  speechiness  instrumentalness  \\\n",
       "0         0.460   0.125    -8.094     0       0.0371             0.000   \n",
       "1         0.621   0.125   -19.686     0       0.0376             0.916   \n",
       "2         0.351   0.125   -18.151     0       0.0421             0.927   \n",
       "3         0.638   0.125   -15.454     1       0.0548             0.960   \n",
       "4         0.857   0.125   -18.150     1       0.4470             0.926   \n",
       "\n",
       "   liveness  valence            type                      id  \\\n",
       "0    0.1650    0.275  audio_features  18r5gmlp3vQykXCskNJI0e   \n",
       "1    0.1040    0.321  audio_features  0zfslMAEFfuIjkgxa6tEPc   \n",
       "2    0.0972    0.157  audio_features  0Ah41mjuPtj9TXfElZ59WK   \n",
       "3    0.0883    0.240  audio_features  1HQwCt2tFgnYyPzY019ZpI   \n",
       "4    0.0948    0.608  audio_features  4j1lMVFE9H5Av6wxRhteSA   \n",
       "\n",
       "                                    uri  \\\n",
       "0  spotify:track:18r5gmlp3vQykXCskNJI0e   \n",
       "1  spotify:track:0zfslMAEFfuIjkgxa6tEPc   \n",
       "2  spotify:track:0Ah41mjuPtj9TXfElZ59WK   \n",
       "3  spotify:track:1HQwCt2tFgnYyPzY019ZpI   \n",
       "4  spotify:track:4j1lMVFE9H5Av6wxRhteSA   \n",
       "\n",
       "                                          track_href  duration_ms  \n",
       "0  https://api.spotify.com/v1/tracks/18r5gmlp3vQy...        89969  \n",
       "1  https://api.spotify.com/v1/tracks/0zfslMAEFfuI...       188793  \n",
       "2  https://api.spotify.com/v1/tracks/0Ah41mjuPtj9...       191360  \n",
       "3  https://api.spotify.com/v1/tracks/1HQwCt2tFgnY...       190717  \n",
       "4  https://api.spotify.com/v1/tracks/4j1lMVFE9H5A...       213750  "
      ]
     },
     "execution_count": 232,
     "metadata": {},
     "output_type": "execute_result"
    }
   ],
   "source": [
    "# reading the df\n",
    "df_features.head()"
   ]
  },
  {
   "cell_type": "markdown",
   "metadata": {},
   "source": [
    "#### Understanding the left out variables"
   ]
  },
  {
   "cell_type": "markdown",
   "metadata": {},
   "source": [
    "1. danceability -> Danceability describes how suitable a track is for dancing based on a combination of musical elements including tempo, rhythm stability, beat strength, and overall regularity. A value of 0.0 is least danceable and 1.0 is most danceable.\n",
    "\n",
    "2. energy -> Energy is a measure from 0.0 to 1.0 and represents a perceptual measure of intensity and activity.\n",
    "\n",
    "3. loudness -> The overall loudness of a track in decibels (dB). Values typically range between -60 and 0 db.\n",
    "\n",
    "4. mode -> Mode indicates the modality (major or minor) of a track, the type of scale from which its melodic content is derived. Major is represented by 1 and minor is 0.\n",
    "\n",
    "5. speechiness -> Speechiness detects the presence of spoken words in a track. \n",
    "closer to 1 - talk show, audio book, poetry\n",
    "above 0.66 - Full spoken words\n",
    "between 0.33 and 0.66 - rap music\n",
    "below 0.33 - only music\n",
    "\n",
    "6. instrumentalness -> Predicts whether a track contains no vocals. \n",
    "\n",
    "7. liveness -> Detects the presence of an audience in the recording. A value above 0.8 provides strong likelihood that the track is live.\n",
    "\n",
    "8. valence -> A measure from 0.0 to 1.0 describing the musical positiveness conveyed by a track. Tracks with high valence sound more positive (e.g. happy, cheerful, euphoric), while tracks with low valence sound more negative (e.g. sad, depressed, angry)."
   ]
  },
  {
   "cell_type": "markdown",
   "metadata": {},
   "source": [
    "#### Changes to me made"
   ]
  },
  {
   "cell_type": "code",
   "execution_count": 233,
   "metadata": {},
   "outputs": [
    {
     "data": {
      "text/html": [
       "<div>\n",
       "<style scoped>\n",
       "    .dataframe tbody tr th:only-of-type {\n",
       "        vertical-align: middle;\n",
       "    }\n",
       "\n",
       "    .dataframe tbody tr th {\n",
       "        vertical-align: top;\n",
       "    }\n",
       "\n",
       "    .dataframe thead th {\n",
       "        text-align: right;\n",
       "    }\n",
       "</style>\n",
       "<table border=\"1\" class=\"dataframe\">\n",
       "  <thead>\n",
       "    <tr style=\"text-align: right;\">\n",
       "      <th></th>\n",
       "      <th>danceability</th>\n",
       "      <th>energy</th>\n",
       "      <th>loudness</th>\n",
       "      <th>melodic</th>\n",
       "      <th>speechiness</th>\n",
       "      <th>instrumentalness</th>\n",
       "      <th>liveness</th>\n",
       "      <th>valence</th>\n",
       "      <th>type</th>\n",
       "      <th>track_id</th>\n",
       "      <th>uri</th>\n",
       "      <th>track_href</th>\n",
       "      <th>duration_ms</th>\n",
       "    </tr>\n",
       "  </thead>\n",
       "  <tbody>\n",
       "    <tr>\n",
       "      <th>0</th>\n",
       "      <td>0.460</td>\n",
       "      <td>0.125</td>\n",
       "      <td>-8.094</td>\n",
       "      <td>0</td>\n",
       "      <td>0.0371</td>\n",
       "      <td>0.000</td>\n",
       "      <td>0.1650</td>\n",
       "      <td>0.275</td>\n",
       "      <td>audio_features</td>\n",
       "      <td>18r5gmlp3vQykXCskNJI0e</td>\n",
       "      <td>spotify:track:18r5gmlp3vQykXCskNJI0e</td>\n",
       "      <td>https://api.spotify.com/v1/tracks/18r5gmlp3vQy...</td>\n",
       "      <td>89969</td>\n",
       "    </tr>\n",
       "    <tr>\n",
       "      <th>1</th>\n",
       "      <td>0.621</td>\n",
       "      <td>0.125</td>\n",
       "      <td>-19.686</td>\n",
       "      <td>0</td>\n",
       "      <td>0.0376</td>\n",
       "      <td>0.916</td>\n",
       "      <td>0.1040</td>\n",
       "      <td>0.321</td>\n",
       "      <td>audio_features</td>\n",
       "      <td>0zfslMAEFfuIjkgxa6tEPc</td>\n",
       "      <td>spotify:track:0zfslMAEFfuIjkgxa6tEPc</td>\n",
       "      <td>https://api.spotify.com/v1/tracks/0zfslMAEFfuI...</td>\n",
       "      <td>188793</td>\n",
       "    </tr>\n",
       "    <tr>\n",
       "      <th>2</th>\n",
       "      <td>0.351</td>\n",
       "      <td>0.125</td>\n",
       "      <td>-18.151</td>\n",
       "      <td>0</td>\n",
       "      <td>0.0421</td>\n",
       "      <td>0.927</td>\n",
       "      <td>0.0972</td>\n",
       "      <td>0.157</td>\n",
       "      <td>audio_features</td>\n",
       "      <td>0Ah41mjuPtj9TXfElZ59WK</td>\n",
       "      <td>spotify:track:0Ah41mjuPtj9TXfElZ59WK</td>\n",
       "      <td>https://api.spotify.com/v1/tracks/0Ah41mjuPtj9...</td>\n",
       "      <td>191360</td>\n",
       "    </tr>\n",
       "    <tr>\n",
       "      <th>3</th>\n",
       "      <td>0.638</td>\n",
       "      <td>0.125</td>\n",
       "      <td>-15.454</td>\n",
       "      <td>1</td>\n",
       "      <td>0.0548</td>\n",
       "      <td>0.960</td>\n",
       "      <td>0.0883</td>\n",
       "      <td>0.240</td>\n",
       "      <td>audio_features</td>\n",
       "      <td>1HQwCt2tFgnYyPzY019ZpI</td>\n",
       "      <td>spotify:track:1HQwCt2tFgnYyPzY019ZpI</td>\n",
       "      <td>https://api.spotify.com/v1/tracks/1HQwCt2tFgnY...</td>\n",
       "      <td>190717</td>\n",
       "    </tr>\n",
       "    <tr>\n",
       "      <th>4</th>\n",
       "      <td>0.857</td>\n",
       "      <td>0.125</td>\n",
       "      <td>-18.150</td>\n",
       "      <td>1</td>\n",
       "      <td>0.4470</td>\n",
       "      <td>0.926</td>\n",
       "      <td>0.0948</td>\n",
       "      <td>0.608</td>\n",
       "      <td>audio_features</td>\n",
       "      <td>4j1lMVFE9H5Av6wxRhteSA</td>\n",
       "      <td>spotify:track:4j1lMVFE9H5Av6wxRhteSA</td>\n",
       "      <td>https://api.spotify.com/v1/tracks/4j1lMVFE9H5A...</td>\n",
       "      <td>213750</td>\n",
       "    </tr>\n",
       "  </tbody>\n",
       "</table>\n",
       "</div>"
      ],
      "text/plain": [
       "   danceability  energy  loudness  melodic  speechiness  instrumentalness  \\\n",
       "0         0.460   0.125    -8.094        0       0.0371             0.000   \n",
       "1         0.621   0.125   -19.686        0       0.0376             0.916   \n",
       "2         0.351   0.125   -18.151        0       0.0421             0.927   \n",
       "3         0.638   0.125   -15.454        1       0.0548             0.960   \n",
       "4         0.857   0.125   -18.150        1       0.4470             0.926   \n",
       "\n",
       "   liveness  valence            type                track_id  \\\n",
       "0    0.1650    0.275  audio_features  18r5gmlp3vQykXCskNJI0e   \n",
       "1    0.1040    0.321  audio_features  0zfslMAEFfuIjkgxa6tEPc   \n",
       "2    0.0972    0.157  audio_features  0Ah41mjuPtj9TXfElZ59WK   \n",
       "3    0.0883    0.240  audio_features  1HQwCt2tFgnYyPzY019ZpI   \n",
       "4    0.0948    0.608  audio_features  4j1lMVFE9H5Av6wxRhteSA   \n",
       "\n",
       "                                    uri  \\\n",
       "0  spotify:track:18r5gmlp3vQykXCskNJI0e   \n",
       "1  spotify:track:0zfslMAEFfuIjkgxa6tEPc   \n",
       "2  spotify:track:0Ah41mjuPtj9TXfElZ59WK   \n",
       "3  spotify:track:1HQwCt2tFgnYyPzY019ZpI   \n",
       "4  spotify:track:4j1lMVFE9H5Av6wxRhteSA   \n",
       "\n",
       "                                          track_href  duration_ms  \n",
       "0  https://api.spotify.com/v1/tracks/18r5gmlp3vQy...        89969  \n",
       "1  https://api.spotify.com/v1/tracks/0zfslMAEFfuI...       188793  \n",
       "2  https://api.spotify.com/v1/tracks/0Ah41mjuPtj9...       191360  \n",
       "3  https://api.spotify.com/v1/tracks/1HQwCt2tFgnY...       190717  \n",
       "4  https://api.spotify.com/v1/tracks/4j1lMVFE9H5A...       213750  "
      ]
     },
     "execution_count": 233,
     "metadata": {},
     "output_type": "execute_result"
    }
   ],
   "source": [
    "# changing column name \"mode\" to \"melodic\" for easy understanding\n",
    "# changing \"id\" to \"track_id\"\n",
    "df_features = df_features.rename(columns={'mode' : 'melodic', 'id': 'track_id'})\n",
    "\n",
    "# reading the head\n",
    "df_features.head()"
   ]
  },
  {
   "cell_type": "code",
   "execution_count": 234,
   "metadata": {},
   "outputs": [
    {
     "name": "stdout",
     "output_type": "stream",
     "text": [
      "Unique Value count of danceability is 1333\n",
      "Unique Value count of energy is 2939\n",
      "Unique Value count of loudness is 33492\n",
      "Unique Value count of melodic is 2\n",
      "Unique Value count of speechiness is 1653\n",
      "Unique Value count of instrumentalness is 5402\n",
      "Unique Value count of liveness is 1779\n",
      "Unique Value count of valence is 2066\n",
      "Unique Value count of type is 1\n",
      "Unique Value count of track_id is 438112\n",
      "Unique Value count of uri is 438112\n",
      "Unique Value count of track_href is 438112\n",
      "Unique Value count of duration_ms is 147871\n"
     ]
    }
   ],
   "source": [
    "# checking if the df has any missing values in its columns\n",
    "df_features.isna().sum()\n",
    "\n",
    "#checking unique values of all columns\n",
    "df_features_cols = df_features.columns\n",
    "for col in df_features_cols:\n",
    "    print(\"Unique Value count of {} is\".format(col) , df_features[col].nunique())"
   ]
  },
  {
   "cell_type": "markdown",
   "metadata": {},
   "source": [
    "* It is observed that type has only one value. Therefore, we can drop 'type' col."
   ]
  },
  {
   "cell_type": "code",
   "execution_count": 235,
   "metadata": {},
   "outputs": [
    {
     "data": {
      "text/plain": [
       "(438112, 12)"
      ]
     },
     "execution_count": 235,
     "metadata": {},
     "output_type": "execute_result"
    }
   ],
   "source": [
    "# dropping type col\n",
    "df_features = df_features.drop(columns=['type'], axis=1)\n",
    "\n",
    "# getting the shape\n",
    "df_features.shape"
   ]
  },
  {
   "cell_type": "markdown",
   "metadata": {},
   "source": [
    "## spotify_data_2023"
   ]
  },
  {
   "cell_type": "code",
   "execution_count": 236,
   "metadata": {},
   "outputs": [
    {
     "name": "stderr",
     "output_type": "stream",
     "text": [
      "C:\\Users\\Admin\\AppData\\Local\\Temp\\ipykernel_15880\\1214657695.py:2: DtypeWarning: Columns (25,26,44) have mixed types. Specify dtype option on import or set low_memory=False.\n",
      "  df_data = pd.read_csv(\"Spotify-Dataset\\spotify_data_2023.csv\")\n"
     ]
    },
    {
     "data": {
      "text/html": [
       "<div>\n",
       "<style scoped>\n",
       "    .dataframe tbody tr th:only-of-type {\n",
       "        vertical-align: middle;\n",
       "    }\n",
       "\n",
       "    .dataframe tbody tr th {\n",
       "        vertical-align: top;\n",
       "    }\n",
       "\n",
       "    .dataframe thead th {\n",
       "        text-align: right;\n",
       "    }\n",
       "</style>\n",
       "<table border=\"1\" class=\"dataframe\">\n",
       "  <thead>\n",
       "    <tr style=\"text-align: right;\">\n",
       "      <th></th>\n",
       "      <th>album_id</th>\n",
       "      <th>album_name</th>\n",
       "      <th>album_popularity</th>\n",
       "      <th>album_type</th>\n",
       "      <th>artists</th>\n",
       "      <th>artist_0</th>\n",
       "      <th>artist_1</th>\n",
       "      <th>artist_2</th>\n",
       "      <th>artist_3</th>\n",
       "      <th>artist_4</th>\n",
       "      <th>...</th>\n",
       "      <th>time_signature</th>\n",
       "      <th>track_href</th>\n",
       "      <th>type</th>\n",
       "      <th>uri</th>\n",
       "      <th>valence</th>\n",
       "      <th>explicit</th>\n",
       "      <th>track_popularity</th>\n",
       "      <th>release_year</th>\n",
       "      <th>release_month</th>\n",
       "      <th>rn</th>\n",
       "    </tr>\n",
       "  </thead>\n",
       "  <tbody>\n",
       "    <tr>\n",
       "      <th>0</th>\n",
       "      <td>4zH8bbEjLe0Gdbv2FVLjnK</td>\n",
       "      <td>Son Of Tabu</td>\n",
       "      <td>1</td>\n",
       "      <td>album</td>\n",
       "      <td>['AB']</td>\n",
       "      <td>AB</td>\n",
       "      <td>NaN</td>\n",
       "      <td>NaN</td>\n",
       "      <td>NaN</td>\n",
       "      <td>NaN</td>\n",
       "      <td>...</td>\n",
       "      <td>4.0</td>\n",
       "      <td>https://api.spotify.com/v1/tracks/5JucnTkqh8uC...</td>\n",
       "      <td>audio_features</td>\n",
       "      <td>spotify:track:5JucnTkqh8uCZGggL1xxvv</td>\n",
       "      <td>0.382</td>\n",
       "      <td>True</td>\n",
       "      <td>0.0</td>\n",
       "      <td>2023.0</td>\n",
       "      <td>April</td>\n",
       "      <td>1</td>\n",
       "    </tr>\n",
       "    <tr>\n",
       "      <th>1</th>\n",
       "      <td>4zH8bbEjLe0Gdbv2FVLjnK</td>\n",
       "      <td>Son Of Tabu</td>\n",
       "      <td>1</td>\n",
       "      <td>album</td>\n",
       "      <td>['AB', '22nd Jim']</td>\n",
       "      <td>AB</td>\n",
       "      <td>22nd Jim</td>\n",
       "      <td>NaN</td>\n",
       "      <td>NaN</td>\n",
       "      <td>NaN</td>\n",
       "      <td>...</td>\n",
       "      <td>4.0</td>\n",
       "      <td>https://api.spotify.com/v1/tracks/4VWrKNG3ssyZ...</td>\n",
       "      <td>audio_features</td>\n",
       "      <td>spotify:track:4VWrKNG3ssyZeboTgQ7Kj1</td>\n",
       "      <td>0.193</td>\n",
       "      <td>True</td>\n",
       "      <td>1.0</td>\n",
       "      <td>2023.0</td>\n",
       "      <td>April</td>\n",
       "      <td>1</td>\n",
       "    </tr>\n",
       "    <tr>\n",
       "      <th>2</th>\n",
       "      <td>4zH8bbEjLe0Gdbv2FVLjnK</td>\n",
       "      <td>Son Of Tabu</td>\n",
       "      <td>1</td>\n",
       "      <td>album</td>\n",
       "      <td>['AB', 'Veeze']</td>\n",
       "      <td>AB</td>\n",
       "      <td>Veeze</td>\n",
       "      <td>NaN</td>\n",
       "      <td>NaN</td>\n",
       "      <td>NaN</td>\n",
       "      <td>...</td>\n",
       "      <td>4.0</td>\n",
       "      <td>https://api.spotify.com/v1/tracks/6JsVrTLJPSOS...</td>\n",
       "      <td>audio_features</td>\n",
       "      <td>spotify:track:6JsVrTLJPSOSpgJSnZyfSK</td>\n",
       "      <td>0.835</td>\n",
       "      <td>True</td>\n",
       "      <td>1.0</td>\n",
       "      <td>2023.0</td>\n",
       "      <td>April</td>\n",
       "      <td>1</td>\n",
       "    </tr>\n",
       "    <tr>\n",
       "      <th>3</th>\n",
       "      <td>4zH8bbEjLe0Gdbv2FVLjnK</td>\n",
       "      <td>Son Of Tabu</td>\n",
       "      <td>1</td>\n",
       "      <td>album</td>\n",
       "      <td>['AB']</td>\n",
       "      <td>AB</td>\n",
       "      <td>NaN</td>\n",
       "      <td>NaN</td>\n",
       "      <td>NaN</td>\n",
       "      <td>NaN</td>\n",
       "      <td>...</td>\n",
       "      <td>4.0</td>\n",
       "      <td>https://api.spotify.com/v1/tracks/7pZpw1xJWIav...</td>\n",
       "      <td>audio_features</td>\n",
       "      <td>spotify:track:7pZpw1xJWIavCUGqXPPriP</td>\n",
       "      <td>0.252</td>\n",
       "      <td>True</td>\n",
       "      <td>0.0</td>\n",
       "      <td>2023.0</td>\n",
       "      <td>April</td>\n",
       "      <td>1</td>\n",
       "    </tr>\n",
       "    <tr>\n",
       "      <th>4</th>\n",
       "      <td>4zH8bbEjLe0Gdbv2FVLjnK</td>\n",
       "      <td>Son Of Tabu</td>\n",
       "      <td>1</td>\n",
       "      <td>album</td>\n",
       "      <td>['AB']</td>\n",
       "      <td>AB</td>\n",
       "      <td>NaN</td>\n",
       "      <td>NaN</td>\n",
       "      <td>NaN</td>\n",
       "      <td>NaN</td>\n",
       "      <td>...</td>\n",
       "      <td>4.0</td>\n",
       "      <td>https://api.spotify.com/v1/tracks/0ylqwc3gcJdJ...</td>\n",
       "      <td>audio_features</td>\n",
       "      <td>spotify:track:0ylqwc3gcJdJotKd4SfMiu</td>\n",
       "      <td>0.380</td>\n",
       "      <td>True</td>\n",
       "      <td>0.0</td>\n",
       "      <td>2023.0</td>\n",
       "      <td>April</td>\n",
       "      <td>1</td>\n",
       "    </tr>\n",
       "  </tbody>\n",
       "</table>\n",
       "<p>5 rows × 49 columns</p>\n",
       "</div>"
      ],
      "text/plain": [
       "                 album_id   album_name  album_popularity album_type  \\\n",
       "0  4zH8bbEjLe0Gdbv2FVLjnK  Son Of Tabu                 1      album   \n",
       "1  4zH8bbEjLe0Gdbv2FVLjnK  Son Of Tabu                 1      album   \n",
       "2  4zH8bbEjLe0Gdbv2FVLjnK  Son Of Tabu                 1      album   \n",
       "3  4zH8bbEjLe0Gdbv2FVLjnK  Son Of Tabu                 1      album   \n",
       "4  4zH8bbEjLe0Gdbv2FVLjnK  Son Of Tabu                 1      album   \n",
       "\n",
       "              artists artist_0  artist_1 artist_2 artist_3 artist_4  ...  \\\n",
       "0              ['AB']       AB       NaN      NaN      NaN      NaN  ...   \n",
       "1  ['AB', '22nd Jim']       AB  22nd Jim      NaN      NaN      NaN  ...   \n",
       "2     ['AB', 'Veeze']       AB     Veeze      NaN      NaN      NaN  ...   \n",
       "3              ['AB']       AB       NaN      NaN      NaN      NaN  ...   \n",
       "4              ['AB']       AB       NaN      NaN      NaN      NaN  ...   \n",
       "\n",
       "  time_signature                                         track_href  \\\n",
       "0            4.0  https://api.spotify.com/v1/tracks/5JucnTkqh8uC...   \n",
       "1            4.0  https://api.spotify.com/v1/tracks/4VWrKNG3ssyZ...   \n",
       "2            4.0  https://api.spotify.com/v1/tracks/6JsVrTLJPSOS...   \n",
       "3            4.0  https://api.spotify.com/v1/tracks/7pZpw1xJWIav...   \n",
       "4            4.0  https://api.spotify.com/v1/tracks/0ylqwc3gcJdJ...   \n",
       "\n",
       "             type                                   uri  valence explicit  \\\n",
       "0  audio_features  spotify:track:5JucnTkqh8uCZGggL1xxvv    0.382     True   \n",
       "1  audio_features  spotify:track:4VWrKNG3ssyZeboTgQ7Kj1    0.193     True   \n",
       "2  audio_features  spotify:track:6JsVrTLJPSOSpgJSnZyfSK    0.835     True   \n",
       "3  audio_features  spotify:track:7pZpw1xJWIavCUGqXPPriP    0.252     True   \n",
       "4  audio_features  spotify:track:0ylqwc3gcJdJotKd4SfMiu    0.380     True   \n",
       "\n",
       "  track_popularity  release_year release_month  rn  \n",
       "0              0.0        2023.0         April   1  \n",
       "1              1.0        2023.0         April   1  \n",
       "2              1.0        2023.0         April   1  \n",
       "3              0.0        2023.0         April   1  \n",
       "4              0.0        2023.0         April   1  \n",
       "\n",
       "[5 rows x 49 columns]"
      ]
     },
     "execution_count": 236,
     "metadata": {},
     "output_type": "execute_result"
    }
   ],
   "source": [
    "# converting csv to pandas dataframe \n",
    "df_data = pd.read_csv(\"Spotify-Dataset\\spotify_data_2023.csv\")\n",
    "\n",
    "# reading the head of df\n",
    "df_data.head()"
   ]
  },
  {
   "cell_type": "code",
   "execution_count": 237,
   "metadata": {},
   "outputs": [
    {
     "data": {
      "text/plain": [
       "Index(['album_id', 'album_name', 'album_popularity', 'album_type', 'artists',\n",
       "       'artist_0', 'artist_1', 'artist_2', 'artist_3', 'artist_4', 'artist_id',\n",
       "       'duration_sec', 'label', 'release_date', 'total_tracks', 'track_id',\n",
       "       'track_name', 'track_number', 'artist_genres', 'artist_popularity',\n",
       "       'followers', 'name', 'genre_0', 'genre_1', 'genre_2', 'genre_3',\n",
       "       'genre_4', 'acousticness', 'analysis_url', 'danceability',\n",
       "       'duration_ms', 'energy', 'instrumentalness', 'key', 'liveness',\n",
       "       'loudness', 'mode', 'speechiness', 'tempo', 'time_signature',\n",
       "       'track_href', 'type', 'uri', 'valence', 'explicit', 'track_popularity',\n",
       "       'release_year', 'release_month', 'rn'],\n",
       "      dtype='object')"
      ]
     },
     "execution_count": 237,
     "metadata": {},
     "output_type": "execute_result"
    }
   ],
   "source": [
    "# getting the column names\n",
    "df_data.columns"
   ]
  },
  {
   "cell_type": "code",
   "execution_count": 238,
   "metadata": {},
   "outputs": [],
   "source": [
    "# dropping down unnecessary columns\n",
    "drop_columns_data = ['artist_0', 'artist_1', 'artist_2', 'artist_3', 'artist_4', 'label', 'name', 'genre_0', 'genre_1', 'genre_2', 'genre_3',\n",
    "       'genre_4', 'acousticness', 'analysis_url', 'danceability',\n",
    "       'duration_ms', 'energy', 'instrumentalness', 'key', 'liveness',\n",
    "       'loudness', 'mode', 'speechiness', 'tempo', 'time_signature',\n",
    "       'track_href', 'type', 'uri', 'valence', 'explicit', 'track_popularity', 'rn']\n",
    "\n",
    "df_data = df_data.drop(columns=drop_columns_data, axis=1)"
   ]
  },
  {
   "cell_type": "code",
   "execution_count": 239,
   "metadata": {},
   "outputs": [
    {
     "data": {
      "text/plain": [
       "Index(['album_id', 'album_name', 'album_popularity', 'album_type', 'artists',\n",
       "       'artist_id', 'duration_sec', 'release_date', 'total_tracks', 'track_id',\n",
       "       'track_name', 'track_number', 'artist_genres', 'artist_popularity',\n",
       "       'followers', 'release_year', 'release_month'],\n",
       "      dtype='object')"
      ]
     },
     "execution_count": 239,
     "metadata": {},
     "output_type": "execute_result"
    }
   ],
   "source": [
    "df_data.columns"
   ]
  },
  {
   "cell_type": "code",
   "execution_count": 240,
   "metadata": {},
   "outputs": [
    {
     "data": {
      "text/plain": [
       "album_id              0\n",
       "album_name            1\n",
       "album_popularity      0\n",
       "album_type            0\n",
       "artists               0\n",
       "artist_id             0\n",
       "duration_sec          0\n",
       "release_date         22\n",
       "total_tracks          0\n",
       "track_id              0\n",
       "track_name            5\n",
       "track_number          0\n",
       "artist_genres         0\n",
       "artist_popularity     0\n",
       "followers             0\n",
       "release_year         22\n",
       "release_month        22\n",
       "dtype: int64"
      ]
     },
     "execution_count": 240,
     "metadata": {},
     "output_type": "execute_result"
    }
   ],
   "source": [
    "# checking any missing value\n",
    "df_data.isna().sum()"
   ]
  },
  {
   "cell_type": "code",
   "execution_count": 241,
   "metadata": {},
   "outputs": [
    {
     "data": {
      "text/plain": [
       "(375141, 17)"
      ]
     },
     "execution_count": 241,
     "metadata": {},
     "output_type": "execute_result"
    }
   ],
   "source": [
    "#getting the shape\n",
    "df_data.shape"
   ]
  },
  {
   "cell_type": "code",
   "execution_count": 242,
   "metadata": {},
   "outputs": [
    {
     "data": {
      "text/plain": [
       "375141"
      ]
     },
     "execution_count": 242,
     "metadata": {},
     "output_type": "execute_result"
    }
   ],
   "source": [
    "# getting unique track_id count\n",
    "df_data['track_id'].nunique()"
   ]
  },
  {
   "cell_type": "markdown",
   "metadata": {},
   "source": [
    "## spotify_albums_data_2023"
   ]
  },
  {
   "cell_type": "code",
   "execution_count": 243,
   "metadata": {},
   "outputs": [
    {
     "data": {
      "text/html": [
       "<div>\n",
       "<style scoped>\n",
       "    .dataframe tbody tr th:only-of-type {\n",
       "        vertical-align: middle;\n",
       "    }\n",
       "\n",
       "    .dataframe tbody tr th {\n",
       "        vertical-align: top;\n",
       "    }\n",
       "\n",
       "    .dataframe thead th {\n",
       "        text-align: right;\n",
       "    }\n",
       "</style>\n",
       "<table border=\"1\" class=\"dataframe\">\n",
       "  <thead>\n",
       "    <tr style=\"text-align: right;\">\n",
       "      <th></th>\n",
       "      <th>track_name</th>\n",
       "      <th>track_id</th>\n",
       "      <th>track_number</th>\n",
       "      <th>duration_ms</th>\n",
       "      <th>album_type</th>\n",
       "      <th>artists</th>\n",
       "      <th>total_tracks</th>\n",
       "      <th>album_name</th>\n",
       "      <th>release_date</th>\n",
       "      <th>label</th>\n",
       "      <th>...</th>\n",
       "      <th>artist_3</th>\n",
       "      <th>artist_4</th>\n",
       "      <th>artist_5</th>\n",
       "      <th>artist_6</th>\n",
       "      <th>artist_7</th>\n",
       "      <th>artist_8</th>\n",
       "      <th>artist_9</th>\n",
       "      <th>artist_10</th>\n",
       "      <th>artist_11</th>\n",
       "      <th>duration_sec</th>\n",
       "    </tr>\n",
       "  </thead>\n",
       "  <tbody>\n",
       "    <tr>\n",
       "      <th>0</th>\n",
       "      <td>Amazing Grace</td>\n",
       "      <td>6mN8nzCXWUeT5LWEcG1Utx</td>\n",
       "      <td>5</td>\n",
       "      <td>555521</td>\n",
       "      <td>album</td>\n",
       "      <td>NaN</td>\n",
       "      <td>9</td>\n",
       "      <td>Deep Peace Experience</td>\n",
       "      <td>2015-06-09 00:00:00 UTC</td>\n",
       "      <td>Mountain Music Inc</td>\n",
       "      <td>...</td>\n",
       "      <td>NaN</td>\n",
       "      <td>NaN</td>\n",
       "      <td>NaN</td>\n",
       "      <td>NaN</td>\n",
       "      <td>NaN</td>\n",
       "      <td>NaN</td>\n",
       "      <td>NaN</td>\n",
       "      <td>NaN</td>\n",
       "      <td>NaN</td>\n",
       "      <td>555.521</td>\n",
       "    </tr>\n",
       "    <tr>\n",
       "      <th>1</th>\n",
       "      <td>Silent Night</td>\n",
       "      <td>58sgjtx3FOnBBEOd3BQE6C</td>\n",
       "      <td>8</td>\n",
       "      <td>535041</td>\n",
       "      <td>album</td>\n",
       "      <td>NaN</td>\n",
       "      <td>9</td>\n",
       "      <td>Deep Peace Experience</td>\n",
       "      <td>2015-06-09 00:00:00 UTC</td>\n",
       "      <td>Mountain Music Inc</td>\n",
       "      <td>...</td>\n",
       "      <td>NaN</td>\n",
       "      <td>NaN</td>\n",
       "      <td>NaN</td>\n",
       "      <td>NaN</td>\n",
       "      <td>NaN</td>\n",
       "      <td>NaN</td>\n",
       "      <td>NaN</td>\n",
       "      <td>NaN</td>\n",
       "      <td>NaN</td>\n",
       "      <td>535.041</td>\n",
       "    </tr>\n",
       "    <tr>\n",
       "      <th>2</th>\n",
       "      <td>Ancient Canyons</td>\n",
       "      <td>45tQJhm0WSk5VWMZK3FsLK</td>\n",
       "      <td>1</td>\n",
       "      <td>545855</td>\n",
       "      <td>album</td>\n",
       "      <td>NaN</td>\n",
       "      <td>9</td>\n",
       "      <td>Deep Peace Experience</td>\n",
       "      <td>2015-06-09 00:00:00 UTC</td>\n",
       "      <td>Mountain Music Inc</td>\n",
       "      <td>...</td>\n",
       "      <td>NaN</td>\n",
       "      <td>NaN</td>\n",
       "      <td>NaN</td>\n",
       "      <td>NaN</td>\n",
       "      <td>NaN</td>\n",
       "      <td>NaN</td>\n",
       "      <td>NaN</td>\n",
       "      <td>NaN</td>\n",
       "      <td>NaN</td>\n",
       "      <td>545.855</td>\n",
       "    </tr>\n",
       "    <tr>\n",
       "      <th>3</th>\n",
       "      <td>Pacha Mama Medicina</td>\n",
       "      <td>3VFD7QqkJSg0OR6yBwKl7A</td>\n",
       "      <td>6</td>\n",
       "      <td>305241</td>\n",
       "      <td>album</td>\n",
       "      <td>NaN</td>\n",
       "      <td>9</td>\n",
       "      <td>Deep Peace Experience</td>\n",
       "      <td>2015-06-09 00:00:00 UTC</td>\n",
       "      <td>Mountain Music Inc</td>\n",
       "      <td>...</td>\n",
       "      <td>NaN</td>\n",
       "      <td>NaN</td>\n",
       "      <td>NaN</td>\n",
       "      <td>NaN</td>\n",
       "      <td>NaN</td>\n",
       "      <td>NaN</td>\n",
       "      <td>NaN</td>\n",
       "      <td>NaN</td>\n",
       "      <td>NaN</td>\n",
       "      <td>305.241</td>\n",
       "    </tr>\n",
       "    <tr>\n",
       "      <th>4</th>\n",
       "      <td>Palace Of Light</td>\n",
       "      <td>7LwJV5BEIC9BQnzvaBSyCc</td>\n",
       "      <td>7</td>\n",
       "      <td>351060</td>\n",
       "      <td>album</td>\n",
       "      <td>NaN</td>\n",
       "      <td>9</td>\n",
       "      <td>Deep Peace Experience</td>\n",
       "      <td>2015-06-09 00:00:00 UTC</td>\n",
       "      <td>Mountain Music Inc</td>\n",
       "      <td>...</td>\n",
       "      <td>NaN</td>\n",
       "      <td>NaN</td>\n",
       "      <td>NaN</td>\n",
       "      <td>NaN</td>\n",
       "      <td>NaN</td>\n",
       "      <td>NaN</td>\n",
       "      <td>NaN</td>\n",
       "      <td>NaN</td>\n",
       "      <td>NaN</td>\n",
       "      <td>351.060</td>\n",
       "    </tr>\n",
       "  </tbody>\n",
       "</table>\n",
       "<p>5 rows × 26 columns</p>\n",
       "</div>"
      ],
      "text/plain": [
       "            track_name                track_id  track_number  duration_ms  \\\n",
       "0        Amazing Grace  6mN8nzCXWUeT5LWEcG1Utx             5       555521   \n",
       "1         Silent Night  58sgjtx3FOnBBEOd3BQE6C             8       535041   \n",
       "2      Ancient Canyons  45tQJhm0WSk5VWMZK3FsLK             1       545855   \n",
       "3  Pacha Mama Medicina  3VFD7QqkJSg0OR6yBwKl7A             6       305241   \n",
       "4      Palace Of Light  7LwJV5BEIC9BQnzvaBSyCc             7       351060   \n",
       "\n",
       "  album_type  artists  total_tracks             album_name  \\\n",
       "0      album      NaN             9  Deep Peace Experience   \n",
       "1      album      NaN             9  Deep Peace Experience   \n",
       "2      album      NaN             9  Deep Peace Experience   \n",
       "3      album      NaN             9  Deep Peace Experience   \n",
       "4      album      NaN             9  Deep Peace Experience   \n",
       "\n",
       "              release_date               label  ...  artist_3 artist_4  \\\n",
       "0  2015-06-09 00:00:00 UTC  Mountain Music Inc  ...       NaN      NaN   \n",
       "1  2015-06-09 00:00:00 UTC  Mountain Music Inc  ...       NaN      NaN   \n",
       "2  2015-06-09 00:00:00 UTC  Mountain Music Inc  ...       NaN      NaN   \n",
       "3  2015-06-09 00:00:00 UTC  Mountain Music Inc  ...       NaN      NaN   \n",
       "4  2015-06-09 00:00:00 UTC  Mountain Music Inc  ...       NaN      NaN   \n",
       "\n",
       "  artist_5 artist_6 artist_7 artist_8 artist_9 artist_10 artist_11  \\\n",
       "0      NaN      NaN      NaN      NaN      NaN       NaN       NaN   \n",
       "1      NaN      NaN      NaN      NaN      NaN       NaN       NaN   \n",
       "2      NaN      NaN      NaN      NaN      NaN       NaN       NaN   \n",
       "3      NaN      NaN      NaN      NaN      NaN       NaN       NaN   \n",
       "4      NaN      NaN      NaN      NaN      NaN       NaN       NaN   \n",
       "\n",
       "  duration_sec  \n",
       "0      555.521  \n",
       "1      535.041  \n",
       "2      545.855  \n",
       "3      305.241  \n",
       "4      351.060  \n",
       "\n",
       "[5 rows x 26 columns]"
      ]
     },
     "execution_count": 243,
     "metadata": {},
     "output_type": "execute_result"
    }
   ],
   "source": [
    "# converting csv to pandas dataframe\n",
    "df_albums = pd.read_csv(\"Spotify-Dataset\\spotify_albums_data_2023.csv\")\n",
    "\n",
    "# getting the head of the df\n",
    "df_albums.head()"
   ]
  },
  {
   "cell_type": "code",
   "execution_count": 244,
   "metadata": {},
   "outputs": [
    {
     "data": {
      "text/plain": [
       "Index(['track_name', 'track_id', 'track_number', 'duration_ms', 'album_type',\n",
       "       'artists', 'total_tracks', 'album_name', 'release_date', 'label',\n",
       "       'album_popularity', 'album_id', 'artist_id', 'artist_0', 'artist_1',\n",
       "       'artist_2', 'artist_3', 'artist_4', 'artist_5', 'artist_6', 'artist_7',\n",
       "       'artist_8', 'artist_9', 'artist_10', 'artist_11', 'duration_sec'],\n",
       "      dtype='object')"
      ]
     },
     "execution_count": 244,
     "metadata": {},
     "output_type": "execute_result"
    }
   ],
   "source": [
    "# getting the columns\n",
    "df_albums.columns"
   ]
  },
  {
   "cell_type": "code",
   "execution_count": 245,
   "metadata": {},
   "outputs": [],
   "source": [
    "# dropping down unnecessary columns\n",
    "drop_columns_albums = ['artist_0', 'artist_1',\n",
    "       'artist_2', 'artist_3', 'artist_4', 'artist_5', 'artist_6', 'artist_7',\n",
    "       'artist_8', 'artist_9', 'artist_10', 'artist_11', 'label', 'artists']\n",
    "\n",
    "df_albums = df_albums.drop(columns=drop_columns_albums, axis=1)"
   ]
  },
  {
   "cell_type": "code",
   "execution_count": 246,
   "metadata": {},
   "outputs": [
    {
     "data": {
      "text/plain": [
       "Index(['track_name', 'track_id', 'track_number', 'duration_ms', 'album_type',\n",
       "       'total_tracks', 'album_name', 'release_date', 'album_popularity',\n",
       "       'album_id', 'artist_id', 'duration_sec'],\n",
       "      dtype='object')"
      ]
     },
     "execution_count": 246,
     "metadata": {},
     "output_type": "execute_result"
    }
   ],
   "source": [
    "# checking the columns again\n",
    "df_albums.columns"
   ]
  },
  {
   "cell_type": "code",
   "execution_count": 247,
   "metadata": {},
   "outputs": [
    {
     "data": {
      "text/plain": [
       "track_name           5\n",
       "track_id             0\n",
       "track_number         0\n",
       "duration_ms          0\n",
       "album_type           0\n",
       "total_tracks         0\n",
       "album_name           1\n",
       "release_date        23\n",
       "album_popularity     0\n",
       "album_id             0\n",
       "artist_id            0\n",
       "duration_sec         0\n",
       "dtype: int64"
      ]
     },
     "execution_count": 247,
     "metadata": {},
     "output_type": "execute_result"
    }
   ],
   "source": [
    "# checking for null vales\n",
    "df_albums.isna().sum()"
   ]
  },
  {
   "cell_type": "code",
   "execution_count": 248,
   "metadata": {},
   "outputs": [
    {
     "data": {
      "text/plain": [
       "438948"
      ]
     },
     "execution_count": 248,
     "metadata": {},
     "output_type": "execute_result"
    }
   ],
   "source": [
    "# checking the unique track_id count\n",
    "df_albums['track_id'].nunique()"
   ]
  },
  {
   "cell_type": "markdown",
   "metadata": {},
   "source": [
    "## spotify_artist_data_2023"
   ]
  },
  {
   "cell_type": "code",
   "execution_count": 249,
   "metadata": {},
   "outputs": [
    {
     "data": {
      "text/html": [
       "<div>\n",
       "<style scoped>\n",
       "    .dataframe tbody tr th:only-of-type {\n",
       "        vertical-align: middle;\n",
       "    }\n",
       "\n",
       "    .dataframe tbody tr th {\n",
       "        vertical-align: top;\n",
       "    }\n",
       "\n",
       "    .dataframe thead th {\n",
       "        text-align: right;\n",
       "    }\n",
       "</style>\n",
       "<table border=\"1\" class=\"dataframe\">\n",
       "  <thead>\n",
       "    <tr style=\"text-align: right;\">\n",
       "      <th></th>\n",
       "      <th>id</th>\n",
       "      <th>name</th>\n",
       "      <th>artist_popularity</th>\n",
       "      <th>artist_genres</th>\n",
       "      <th>followers</th>\n",
       "      <th>genre_0</th>\n",
       "      <th>genre_1</th>\n",
       "      <th>genre_2</th>\n",
       "      <th>genre_3</th>\n",
       "      <th>genre_4</th>\n",
       "      <th>genre_5</th>\n",
       "      <th>genre_6</th>\n",
       "    </tr>\n",
       "  </thead>\n",
       "  <tbody>\n",
       "    <tr>\n",
       "      <th>0</th>\n",
       "      <td>6GkSLJj5CGLIckLIb8J4LR</td>\n",
       "      <td>Late Night Fights</td>\n",
       "      <td>0</td>\n",
       "      <td>['minneapolis punk']</td>\n",
       "      <td>184</td>\n",
       "      <td>minneapolis punk</td>\n",
       "      <td>NaN</td>\n",
       "      <td>NaN</td>\n",
       "      <td>NaN</td>\n",
       "      <td>NaN</td>\n",
       "      <td>NaN</td>\n",
       "      <td>NaN</td>\n",
       "    </tr>\n",
       "    <tr>\n",
       "      <th>1</th>\n",
       "      <td>1N0VwQy5PRJymrRvlRzDIj</td>\n",
       "      <td>Sub Par All Star</td>\n",
       "      <td>0</td>\n",
       "      <td>['antiviral pop']</td>\n",
       "      <td>491</td>\n",
       "      <td>antiviral pop</td>\n",
       "      <td>NaN</td>\n",
       "      <td>NaN</td>\n",
       "      <td>NaN</td>\n",
       "      <td>NaN</td>\n",
       "      <td>NaN</td>\n",
       "      <td>NaN</td>\n",
       "    </tr>\n",
       "    <tr>\n",
       "      <th>2</th>\n",
       "      <td>4Ch4BIKKwMJsiu1oVLDwpX</td>\n",
       "      <td>Nirvana Meditation 8D</td>\n",
       "      <td>0</td>\n",
       "      <td>['8d']</td>\n",
       "      <td>56</td>\n",
       "      <td>8d</td>\n",
       "      <td>NaN</td>\n",
       "      <td>NaN</td>\n",
       "      <td>NaN</td>\n",
       "      <td>NaN</td>\n",
       "      <td>NaN</td>\n",
       "      <td>NaN</td>\n",
       "    </tr>\n",
       "    <tr>\n",
       "      <th>3</th>\n",
       "      <td>5h2iINTOvhghVcpIzrztPP</td>\n",
       "      <td>Red Hot Rebellion</td>\n",
       "      <td>0</td>\n",
       "      <td>['action rock']</td>\n",
       "      <td>394</td>\n",
       "      <td>action rock</td>\n",
       "      <td>NaN</td>\n",
       "      <td>NaN</td>\n",
       "      <td>NaN</td>\n",
       "      <td>NaN</td>\n",
       "      <td>NaN</td>\n",
       "      <td>NaN</td>\n",
       "    </tr>\n",
       "    <tr>\n",
       "      <th>4</th>\n",
       "      <td>7dE2MLL2SaI6MujpU5HFVi</td>\n",
       "      <td>Nirvana Tribute Band</td>\n",
       "      <td>0</td>\n",
       "      <td>['tribute']</td>\n",
       "      <td>230</td>\n",
       "      <td>tribute</td>\n",
       "      <td>NaN</td>\n",
       "      <td>NaN</td>\n",
       "      <td>NaN</td>\n",
       "      <td>NaN</td>\n",
       "      <td>NaN</td>\n",
       "      <td>NaN</td>\n",
       "    </tr>\n",
       "  </tbody>\n",
       "</table>\n",
       "</div>"
      ],
      "text/plain": [
       "                       id                   name  artist_popularity  \\\n",
       "0  6GkSLJj5CGLIckLIb8J4LR      Late Night Fights                  0   \n",
       "1  1N0VwQy5PRJymrRvlRzDIj       Sub Par All Star                  0   \n",
       "2  4Ch4BIKKwMJsiu1oVLDwpX  Nirvana Meditation 8D                  0   \n",
       "3  5h2iINTOvhghVcpIzrztPP      Red Hot Rebellion                  0   \n",
       "4  7dE2MLL2SaI6MujpU5HFVi   Nirvana Tribute Band                  0   \n",
       "\n",
       "          artist_genres  followers           genre_0 genre_1 genre_2 genre_3  \\\n",
       "0  ['minneapolis punk']        184  minneapolis punk     NaN     NaN     NaN   \n",
       "1     ['antiviral pop']        491     antiviral pop     NaN     NaN     NaN   \n",
       "2                ['8d']         56                8d     NaN     NaN     NaN   \n",
       "3       ['action rock']        394       action rock     NaN     NaN     NaN   \n",
       "4           ['tribute']        230           tribute     NaN     NaN     NaN   \n",
       "\n",
       "  genre_4  genre_5  genre_6  \n",
       "0     NaN      NaN      NaN  \n",
       "1     NaN      NaN      NaN  \n",
       "2     NaN      NaN      NaN  \n",
       "3     NaN      NaN      NaN  \n",
       "4     NaN      NaN      NaN  "
      ]
     },
     "execution_count": 249,
     "metadata": {},
     "output_type": "execute_result"
    }
   ],
   "source": [
    "# converting csv to pandas dataframe\n",
    "df_artists = pd.read_csv(\"Spotify-Dataset\\spotify_artist_data_2023.csv\") \n",
    "\n",
    "# getting the head of the dataframe\n",
    "df_artists.head()"
   ]
  },
  {
   "cell_type": "code",
   "execution_count": 250,
   "metadata": {},
   "outputs": [
    {
     "data": {
      "text/plain": [
       "Index(['id', 'name', 'artist_popularity', 'artist_genres', 'followers',\n",
       "       'genre_0', 'genre_1', 'genre_2', 'genre_3', 'genre_4', 'genre_5',\n",
       "       'genre_6'],\n",
       "      dtype='object')"
      ]
     },
     "execution_count": 250,
     "metadata": {},
     "output_type": "execute_result"
    }
   ],
   "source": [
    "# getting the columns\n",
    "df_artists.columns"
   ]
  },
  {
   "cell_type": "code",
   "execution_count": 251,
   "metadata": {},
   "outputs": [],
   "source": [
    "# dropping down unnecessary columns\n",
    "drop_columns_artists = ['genre_0', 'genre_1', 'genre_2', 'genre_3', 'genre_4', 'genre_5', 'genre_6']\n",
    "\n",
    "df_artists = df_artists.drop(columns=drop_columns_artists, axis=1)"
   ]
  },
  {
   "cell_type": "code",
   "execution_count": 252,
   "metadata": {},
   "outputs": [
    {
     "data": {
      "text/plain": [
       "id                   0\n",
       "name                 0\n",
       "artist_popularity    0\n",
       "artist_genres        0\n",
       "followers            0\n",
       "dtype: int64"
      ]
     },
     "execution_count": 252,
     "metadata": {},
     "output_type": "execute_result"
    }
   ],
   "source": [
    "# checking for null values\n",
    "df_artists.isna().sum()"
   ]
  },
  {
   "cell_type": "code",
   "execution_count": 253,
   "metadata": {},
   "outputs": [],
   "source": [
    "# changing column names for easy readability\n",
    "df_artists = df_artists.rename(columns={'id': 'artist_id', 'name': 'artist_name', 'followers': 'artist_followers'})"
   ]
  },
  {
   "cell_type": "code",
   "execution_count": 254,
   "metadata": {},
   "outputs": [
    {
     "data": {
      "text/html": [
       "<div>\n",
       "<style scoped>\n",
       "    .dataframe tbody tr th:only-of-type {\n",
       "        vertical-align: middle;\n",
       "    }\n",
       "\n",
       "    .dataframe tbody tr th {\n",
       "        vertical-align: top;\n",
       "    }\n",
       "\n",
       "    .dataframe thead th {\n",
       "        text-align: right;\n",
       "    }\n",
       "</style>\n",
       "<table border=\"1\" class=\"dataframe\">\n",
       "  <thead>\n",
       "    <tr style=\"text-align: right;\">\n",
       "      <th></th>\n",
       "      <th>artist_id</th>\n",
       "      <th>artist_name</th>\n",
       "      <th>artist_popularity</th>\n",
       "      <th>artist_genres</th>\n",
       "      <th>artist_followers</th>\n",
       "    </tr>\n",
       "  </thead>\n",
       "  <tbody>\n",
       "    <tr>\n",
       "      <th>0</th>\n",
       "      <td>6GkSLJj5CGLIckLIb8J4LR</td>\n",
       "      <td>Late Night Fights</td>\n",
       "      <td>0</td>\n",
       "      <td>['minneapolis punk']</td>\n",
       "      <td>184</td>\n",
       "    </tr>\n",
       "    <tr>\n",
       "      <th>1</th>\n",
       "      <td>1N0VwQy5PRJymrRvlRzDIj</td>\n",
       "      <td>Sub Par All Star</td>\n",
       "      <td>0</td>\n",
       "      <td>['antiviral pop']</td>\n",
       "      <td>491</td>\n",
       "    </tr>\n",
       "    <tr>\n",
       "      <th>2</th>\n",
       "      <td>4Ch4BIKKwMJsiu1oVLDwpX</td>\n",
       "      <td>Nirvana Meditation 8D</td>\n",
       "      <td>0</td>\n",
       "      <td>['8d']</td>\n",
       "      <td>56</td>\n",
       "    </tr>\n",
       "    <tr>\n",
       "      <th>3</th>\n",
       "      <td>5h2iINTOvhghVcpIzrztPP</td>\n",
       "      <td>Red Hot Rebellion</td>\n",
       "      <td>0</td>\n",
       "      <td>['action rock']</td>\n",
       "      <td>394</td>\n",
       "    </tr>\n",
       "    <tr>\n",
       "      <th>4</th>\n",
       "      <td>7dE2MLL2SaI6MujpU5HFVi</td>\n",
       "      <td>Nirvana Tribute Band</td>\n",
       "      <td>0</td>\n",
       "      <td>['tribute']</td>\n",
       "      <td>230</td>\n",
       "    </tr>\n",
       "  </tbody>\n",
       "</table>\n",
       "</div>"
      ],
      "text/plain": [
       "                artist_id            artist_name  artist_popularity  \\\n",
       "0  6GkSLJj5CGLIckLIb8J4LR      Late Night Fights                  0   \n",
       "1  1N0VwQy5PRJymrRvlRzDIj       Sub Par All Star                  0   \n",
       "2  4Ch4BIKKwMJsiu1oVLDwpX  Nirvana Meditation 8D                  0   \n",
       "3  5h2iINTOvhghVcpIzrztPP      Red Hot Rebellion                  0   \n",
       "4  7dE2MLL2SaI6MujpU5HFVi   Nirvana Tribute Band                  0   \n",
       "\n",
       "          artist_genres  artist_followers  \n",
       "0  ['minneapolis punk']               184  \n",
       "1     ['antiviral pop']               491  \n",
       "2                ['8d']                56  \n",
       "3       ['action rock']               394  \n",
       "4           ['tribute']               230  "
      ]
     },
     "execution_count": 254,
     "metadata": {},
     "output_type": "execute_result"
    }
   ],
   "source": [
    "# checking the head of the df\n",
    "df_artists.head()"
   ]
  },
  {
   "cell_type": "code",
   "execution_count": 255,
   "metadata": {},
   "outputs": [
    {
     "data": {
      "text/plain": [
       "(37012, 5)"
      ]
     },
     "execution_count": 255,
     "metadata": {},
     "output_type": "execute_result"
    }
   ],
   "source": [
    "# getting shape of the df\n",
    "df_artists.shape"
   ]
  },
  {
   "cell_type": "markdown",
   "metadata": {},
   "source": [
    "## Merging datasets"
   ]
  },
  {
   "cell_type": "markdown",
   "metadata": {},
   "source": [
    "* It is observed that \"df_data\" has less tracking id, compared to other dataset. \n",
    "\n",
    "* Therefore, we can first merge df_tracks with df_ablums.\n",
    "\n",
    "* The resultant merged data-frame can be again merged with df_features, and then again with df_artists."
   ]
  },
  {
   "cell_type": "code",
   "execution_count": 256,
   "metadata": {},
   "outputs": [
    {
     "data": {
      "text/plain": [
       "Index(['track_id', 'track_popularity', 'track_name', 'track_number',\n",
       "       'duration_ms', 'album_type', 'total_tracks', 'album_name',\n",
       "       'release_date', 'album_popularity', 'album_id', 'artist_id',\n",
       "       'duration_sec'],\n",
       "      dtype='object')"
      ]
     },
     "execution_count": 256,
     "metadata": {},
     "output_type": "execute_result"
    }
   ],
   "source": [
    "# merging df_tracks with df_albums using track_id\n",
    "df1 = df_tracks.merge(df_albums, on ='track_id')\n",
    "\n",
    "# checking the cols of df1\n",
    "df1.columns"
   ]
  },
  {
   "cell_type": "code",
   "execution_count": 257,
   "metadata": {},
   "outputs": [
    {
     "data": {
      "text/plain": [
       "(438963, 13)"
      ]
     },
     "execution_count": 257,
     "metadata": {},
     "output_type": "execute_result"
    }
   ],
   "source": [
    "# checking shape of the df1\n",
    "df1.shape"
   ]
  },
  {
   "cell_type": "code",
   "execution_count": 258,
   "metadata": {},
   "outputs": [
    {
     "data": {
      "text/plain": [
       "track_id             0\n",
       "track_popularity     0\n",
       "track_name           5\n",
       "track_number         0\n",
       "duration_ms          0\n",
       "album_type           0\n",
       "total_tracks         0\n",
       "album_name           1\n",
       "release_date        23\n",
       "album_popularity     0\n",
       "album_id             0\n",
       "artist_id            0\n",
       "duration_sec         0\n",
       "dtype: int64"
      ]
     },
     "execution_count": 258,
     "metadata": {},
     "output_type": "execute_result"
    }
   ],
   "source": [
    "# checking null values of df1\n",
    "df1.isna().sum()"
   ]
  },
  {
   "cell_type": "code",
   "execution_count": 259,
   "metadata": {},
   "outputs": [
    {
     "data": {
      "text/plain": [
       "(438127, 24)"
      ]
     },
     "execution_count": 259,
     "metadata": {},
     "output_type": "execute_result"
    }
   ],
   "source": [
    "# merging df1 with df_features using track_id\n",
    "df2 = df1.merge(df_features, on ='track_id')\n",
    "\n",
    "# getting df2 shape\n",
    "df2.shape"
   ]
  },
  {
   "cell_type": "code",
   "execution_count": 260,
   "metadata": {},
   "outputs": [
    {
     "data": {
      "text/plain": [
       "Index(['track_id', 'track_popularity', 'track_name', 'track_number',\n",
       "       'duration_ms_x', 'album_type', 'total_tracks', 'album_name',\n",
       "       'release_date', 'album_popularity', 'album_id', 'artist_id',\n",
       "       'duration_sec', 'danceability', 'energy', 'loudness', 'melodic',\n",
       "       'speechiness', 'instrumentalness', 'liveness', 'valence', 'uri',\n",
       "       'track_href', 'duration_ms_y'],\n",
       "      dtype='object')"
      ]
     },
     "execution_count": 260,
     "metadata": {},
     "output_type": "execute_result"
    }
   ],
   "source": [
    "#checking teh columns\n",
    "df2.columns"
   ]
  },
  {
   "cell_type": "code",
   "execution_count": 261,
   "metadata": {},
   "outputs": [
    {
     "data": {
      "text/plain": [
       "(438127, 28)"
      ]
     },
     "execution_count": 261,
     "metadata": {},
     "output_type": "execute_result"
    }
   ],
   "source": [
    "# merging df2 with df_artists using artist_id\n",
    "df_final = df2.merge(df_artists, on ='artist_id')\n",
    "\n",
    "# getting the shape of df_final\n",
    "df_final.shape"
   ]
  },
  {
   "cell_type": "code",
   "execution_count": 262,
   "metadata": {},
   "outputs": [
    {
     "data": {
      "text/plain": [
       "track_id              0\n",
       "track_popularity      0\n",
       "track_name            5\n",
       "track_number          0\n",
       "duration_ms_x         0\n",
       "album_type            0\n",
       "total_tracks          0\n",
       "album_name            1\n",
       "release_date         23\n",
       "album_popularity      0\n",
       "album_id              0\n",
       "artist_id             0\n",
       "duration_sec          0\n",
       "danceability          0\n",
       "energy                0\n",
       "loudness              0\n",
       "melodic               0\n",
       "speechiness           0\n",
       "instrumentalness      0\n",
       "liveness              0\n",
       "valence               0\n",
       "uri                   0\n",
       "track_href            0\n",
       "duration_ms_y         0\n",
       "artist_name           0\n",
       "artist_popularity     0\n",
       "artist_genres         0\n",
       "artist_followers      0\n",
       "dtype: int64"
      ]
     },
     "execution_count": 262,
     "metadata": {},
     "output_type": "execute_result"
    }
   ],
   "source": [
    "# checking the null values of final df\n",
    "df_final.isnull().sum()"
   ]
  },
  {
   "cell_type": "markdown",
   "metadata": {},
   "source": [
    "* Since, the null value count is very minimal, we can simply remove / drop rows with null values."
   ]
  },
  {
   "cell_type": "code",
   "execution_count": 263,
   "metadata": {},
   "outputs": [],
   "source": [
    "# dropping null value rows\n",
    "df_final = df_final.dropna(axis=0)"
   ]
  },
  {
   "cell_type": "code",
   "execution_count": 264,
   "metadata": {},
   "outputs": [
    {
     "data": {
      "text/plain": [
       "(438099, 28)"
      ]
     },
     "execution_count": 264,
     "metadata": {},
     "output_type": "execute_result"
    }
   ],
   "source": [
    "# getting final shape of the df\n",
    "df_final.shape"
   ]
  },
  {
   "cell_type": "code",
   "execution_count": 265,
   "metadata": {},
   "outputs": [
    {
     "data": {
      "text/plain": [
       "track_id             0\n",
       "track_popularity     0\n",
       "track_name           0\n",
       "track_number         0\n",
       "duration_ms_x        0\n",
       "album_type           0\n",
       "total_tracks         0\n",
       "album_name           0\n",
       "release_date         0\n",
       "album_popularity     0\n",
       "album_id             0\n",
       "artist_id            0\n",
       "duration_sec         0\n",
       "danceability         0\n",
       "energy               0\n",
       "loudness             0\n",
       "melodic              0\n",
       "speechiness          0\n",
       "instrumentalness     0\n",
       "liveness             0\n",
       "valence              0\n",
       "uri                  0\n",
       "track_href           0\n",
       "duration_ms_y        0\n",
       "artist_name          0\n",
       "artist_popularity    0\n",
       "artist_genres        0\n",
       "artist_followers     0\n",
       "dtype: int64"
      ]
     },
     "execution_count": 265,
     "metadata": {},
     "output_type": "execute_result"
    }
   ],
   "source": [
    "# checking the null values again\n",
    "df_final.isna().sum()"
   ]
  },
  {
   "cell_type": "code",
   "execution_count": 266,
   "metadata": {},
   "outputs": [],
   "source": [
    "# removing the col \"duration_ms_x\" and \"duration_ms_y\" as duration_sec is present\n",
    "df_final = df_final.drop(columns=['duration_ms_x', 'duration_ms_y'], axis=1)"
   ]
  },
  {
   "cell_type": "code",
   "execution_count": 267,
   "metadata": {},
   "outputs": [],
   "source": [
    "# changing the dtype of release_date column\n",
    "df_final['release_date'] = pd.to_datetime(df_final['release_date'])"
   ]
  },
  {
   "cell_type": "code",
   "execution_count": 268,
   "metadata": {},
   "outputs": [
    {
     "data": {
      "text/plain": [
       "datetime64[ns, UTC]"
      ]
     },
     "execution_count": 268,
     "metadata": {},
     "output_type": "execute_result"
    }
   ],
   "source": [
    "# re-checking the dtype of release_data column\n",
    "df_final['release_date'].dtype"
   ]
  },
  {
   "cell_type": "code",
   "execution_count": 269,
   "metadata": {},
   "outputs": [],
   "source": [
    "# from 'release_data' column, extracting month and year as separate column\n",
    "df_final['release_month'] = df_final['release_date'].dt.month\n",
    "df_final['release_year'] = df_final['release_date'].dt.year"
   ]
  },
  {
   "cell_type": "code",
   "execution_count": null,
   "metadata": {},
   "outputs": [],
   "source": [
    "# changing the data type of duration_sec from float to int\n",
    "df_final['duration_sec'] = df_final['duration_sec'].astype(int)"
   ]
  },
  {
   "cell_type": "code",
   "execution_count": null,
   "metadata": {},
   "outputs": [
    {
     "data": {
      "text/plain": [
       "dtype('int32')"
      ]
     },
     "execution_count": 276,
     "metadata": {},
     "output_type": "execute_result"
    }
   ],
   "source": [
    "# checking the changed dtype\n",
    "df_final['duration_sec'].dtype"
   ]
  },
  {
   "cell_type": "code",
   "execution_count": null,
   "metadata": {},
   "outputs": [],
   "source": [
    "# converting 'duration_sec' to 'duration_mins'\n",
    "df_final['duration_min'] = df_final['duration_sec'].apply(lambda x : np.round(x/60, 2))"
   ]
  },
  {
   "cell_type": "code",
   "execution_count": null,
   "metadata": {},
   "outputs": [],
   "source": [
    "# dropping duration_sec column\n",
    "df_final = df_final.drop(columns=['duration_sec'], axis=1)"
   ]
  },
  {
   "cell_type": "code",
   "execution_count": 287,
   "metadata": {},
   "outputs": [],
   "source": [
    "# re-ordering the columns for easy readability\n",
    "df_final_cols_order = ['track_id',  'track_name', 'track_number', 'track_popularity', 'duration_min', 'uri', \n",
    "                       'track_href','album_id', 'album_name', 'album_type', 'album_popularity', 'total_tracks',  \n",
    "                       'release_date', 'release_month', 'release_year', \n",
    "                       'artist_id', 'artist_name', 'artist_popularity', 'artist_genres', 'artist_followers', \n",
    "                       'danceability', 'energy', 'loudness', 'melodic', 'speechiness', 'instrumentalness', \n",
    "                       'liveness', 'valence']\n",
    "\n",
    "df_final = df_final[df_final_cols_order]"
   ]
  },
  {
   "cell_type": "code",
   "execution_count": 290,
   "metadata": {},
   "outputs": [],
   "source": [
    "# final processed dataframe\n",
    "df_final.columns\n",
    "\n",
    "# exporting the final processed df to csv file\n",
    "df_final.to_csv('spotify_final_dataset_2023.csv', index=False, encoding='utf-8')"
   ]
  },
  {
   "cell_type": "code",
   "execution_count": 291,
   "metadata": {},
   "outputs": [
    {
     "data": {
      "text/plain": [
       "(438099, 28)"
      ]
     },
     "execution_count": 291,
     "metadata": {},
     "output_type": "execute_result"
    }
   ],
   "source": [
    "# getting shape of the final df\n",
    "df_final.shape"
   ]
  },
  {
   "cell_type": "markdown",
   "metadata": {
    "vscode": {
     "languageId": "bat"
    }
   },
   "source": [
    "## Preparing dataset for kafka and AWS "
   ]
  },
  {
   "cell_type": "markdown",
   "metadata": {},
   "source": [
    "#### Tracks"
   ]
  },
  {
   "cell_type": "code",
   "execution_count": 303,
   "metadata": {},
   "outputs": [],
   "source": [
    "# checking df_tracks\n",
    "df_tracks.shape\n",
    "\n",
    "# exporting the df_tracks to csv\n",
    "df_tracks.to_csv(\"spotify_tracks.csv\", index=False, encoding='utf-8')"
   ]
  },
  {
   "cell_type": "markdown",
   "metadata": {},
   "source": [
    "#### Albums"
   ]
  },
  {
   "cell_type": "code",
   "execution_count": null,
   "metadata": {},
   "outputs": [],
   "source": [
    "# converting duration secs to mins\n",
    "df_albums['duration_min'] = df_albums['duration_sec'].apply(lambda x : np.round(x/60, 2))\n",
    "\n",
    "# dropping out duplicated cols\n",
    "df_albums = df_albums.drop(columns=['duration_ms', 'duration_sec'], axis=1)"
   ]
  },
  {
   "cell_type": "code",
   "execution_count": 305,
   "metadata": {},
   "outputs": [],
   "source": [
    "df_albums.columns\n",
    "\n",
    "# exporting the df_albums to csv\n",
    "df_albums.to_csv(\"spotify_albums.csv\", index=False, encoding='utf-8')"
   ]
  },
  {
   "cell_type": "markdown",
   "metadata": {},
   "source": [
    "#### Features"
   ]
  },
  {
   "cell_type": "code",
   "execution_count": null,
   "metadata": {},
   "outputs": [
    {
     "data": {
      "text/plain": [
       "Index(['danceability', 'energy', 'loudness', 'melodic', 'speechiness',\n",
       "       'instrumentalness', 'liveness', 'valence', 'track_id', 'uri',\n",
       "       'track_href', 'duration_ms'],\n",
       "      dtype='object')"
      ]
     },
     "execution_count": 297,
     "metadata": {},
     "output_type": "execute_result"
    }
   ],
   "source": [
    "# checking the columns\n",
    "df_features.columns"
   ]
  },
  {
   "cell_type": "code",
   "execution_count": null,
   "metadata": {},
   "outputs": [],
   "source": [
    "# dropping out duplicated columns\n",
    "df_features = df_features.drop(columns=['duration_ms'], axis=1)"
   ]
  },
  {
   "cell_type": "code",
   "execution_count": 306,
   "metadata": {},
   "outputs": [],
   "source": [
    "# exporting the df_features to csv\n",
    "df_features.to_csv(\"spotify_features.csv\", index=False, encoding='utf-8')"
   ]
  },
  {
   "cell_type": "markdown",
   "metadata": {},
   "source": [
    "#### Artists"
   ]
  },
  {
   "cell_type": "code",
   "execution_count": 307,
   "metadata": {},
   "outputs": [],
   "source": [
    "# checking the columns\n",
    "df_artists.columns\n",
    "\n",
    "# exporting the df_albums to csv\n",
    "df_artists.to_csv(\"spotify_artists.csv\", index=False, encoding='utf-8')"
   ]
  },
  {
   "cell_type": "code",
   "execution_count": null,
   "metadata": {},
   "outputs": [],
   "source": []
  }
 ],
 "metadata": {
  "kernelspec": {
   "display_name": "base",
   "language": "python",
   "name": "python3"
  },
  "language_info": {
   "codemirror_mode": {
    "name": "ipython",
    "version": 3
   },
   "file_extension": ".py",
   "mimetype": "text/x-python",
   "name": "python",
   "nbconvert_exporter": "python",
   "pygments_lexer": "ipython3",
   "version": "3.12.7"
  }
 },
 "nbformat": 4,
 "nbformat_minor": 2
}
